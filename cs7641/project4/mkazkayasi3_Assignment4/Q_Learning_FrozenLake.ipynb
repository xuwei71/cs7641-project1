{
 "cells": [
  {
   "cell_type": "code",
   "execution_count": 1,
   "metadata": {
    "pycharm": {
     "is_executing": false
    }
   },
   "outputs": [],
   "source": [
    "import gym\n",
    "import numpy as np\n",
    "import random\n",
    "from timeit import default_timer as timer\n",
    "from datetime import timedelta\n",
    "import matplotlib.pylab as plt\n",
    "import pandas as pd\n",
    "import seaborn as sns"
   ]
  },
  {
   "cell_type": "code",
   "execution_count": 2,
   "metadata": {},
   "outputs": [],
   "source": [
    "from gym.envs.toy_text.frozen_lake import generate_random_map, FrozenLakeEnv\n",
    "np.random.seed(44)\n",
    "sixteen = generate_random_map(16)\n",
    "np.random.seed(44)\n",
    "tvelve = generate_random_map(12)\n",
    "MAPS = {\n",
    "    \"4x4\": [\n",
    "        \"SFFF\",\n",
    "        \"FHFH\",\n",
    "        \"FFFH\",\n",
    "        \"HFFG\"\n",
    "    ],\n",
    "    \"8x8\": [\n",
    "        \"SFFFFFFF\",\n",
    "        \"FFFFFFFF\",\n",
    "        \"FFFHFFFF\",\n",
    "        \"FFFFFHFF\",\n",
    "        \"FFFHFFFF\",\n",
    "        \"FHHFFFHF\",\n",
    "        \"FHFFHFHF\",\n",
    "        \"FFFHFFFG\"\n",
    "    ],\n",
    "    \"12x12\": tvelve,\n",
    "    \"16x16\": sixteen\n",
    "}"
   ]
  },
  {
   "cell_type": "code",
   "execution_count": 3,
   "metadata": {},
   "outputs": [],
   "source": [
    "def test_policy(env, policy, n_epoch=1000):\n",
    "    rewards = []\n",
    "    episode_counts = []\n",
    "    for i in range(n_epoch):\n",
    "        current_state = env.reset()\n",
    "        ep = 0\n",
    "        done = False\n",
    "        episode_reward = 0\n",
    "        while not done and ep < 10000:\n",
    "            ep += 1\n",
    "            act = int(policy[current_state])\n",
    "            new_state, reward, done, _ = env.step(act)\n",
    "            episode_reward += reward\n",
    "            current_state = new_state\n",
    "        rewards.append(episode_reward)\n",
    "        episode_counts.append(ep)\n",
    "    \n",
    "    # all done\n",
    "    mean_reward = sum(rewards)/len(rewards)\n",
    "    mean_eps = sum(episode_counts)/len(episode_counts)\n",
    "    return mean_reward, mean_eps, rewards, episode_counts "
   ]
  },
  {
   "cell_type": "code",
   "execution_count": 111,
   "metadata": {},
   "outputs": [],
   "source": [
    "def q_learning(env, discount=0.9, total_episodes=1e5, alpha=0.1, decay_rate=None,\n",
    "               min_epsilon=0.01):\n",
    "    \n",
    "    start = timer()\n",
    "    \n",
    "    number_of_states = env.observation_space.n\n",
    "    number_of_actions = env.action_space.n\n",
    "    \n",
    "    qtable = np.zeros((number_of_states, number_of_actions))\n",
    "    learning_rate = alpha\n",
    "    gamma = discount\n",
    "\n",
    "    # exploration parameter\n",
    "    epsilon = 1.0\n",
    "    max_epsilon = 1.0\n",
    "    min_epsilon = 0.01\n",
    "    \n",
    "    if not decay_rate:\n",
    "        decay_rate = 1./total_episodes\n",
    "    \n",
    "    rewards = []\n",
    "    for episode in range(int(total_episodes)):\n",
    "        # reset the environment\n",
    "        state = env.reset()\n",
    "        step = 0\n",
    "        done = False\n",
    "        total_reward = 0\n",
    "        while True:\n",
    "\n",
    "            # choose an action a in the corrent world state\n",
    "            exp_exp_tradeoff = random.uniform(0,1)\n",
    "\n",
    "            # if greater than epsilon --> exploit\n",
    "            if exp_exp_tradeoff > epsilon:\n",
    "                b = qtable[state, :]\n",
    "                action = np.random.choice(np.where(b == b.max())[0])\n",
    "#                 action = np.argmax(qtable[state, :])\n",
    "            # else choose exploration\n",
    "            else:\n",
    "                action = env.action_space.sample()\n",
    "\n",
    "            # take action (a) and observe the outcome state (s') and reward (r)    \n",
    "            new_state, reward, done, info = env.step(action)\n",
    "            total_reward += reward\n",
    "            # update Q(s,a) := Q(s,a) + lr [R(s,a) + gamma * max(Q (s', a') - Q(s,a))]\n",
    "            if not done:\n",
    "                qtable[state, action] = qtable[state, action] + learning_rate*(reward + gamma*np.max(qtable[new_state, :]) - qtable[state, action])\n",
    "            else:\n",
    "                qtable[state, action] = qtable[state,action] + learning_rate*(reward - qtable[state,action])\n",
    "\n",
    "            # change state\n",
    "            state = new_state\n",
    "\n",
    "            # is it Done\n",
    "            if done:\n",
    "                break\n",
    "                \n",
    "        # reduce epsilon \n",
    "        rewards.append(total_reward)\n",
    "        epsilon = max(max_epsilon -  decay_rate * episode, min_epsilon) \n",
    "    #     print (epsilon)\n",
    "    \n",
    "    end = timer()\n",
    "    time_spent = timedelta(seconds=end-start)\n",
    "    print(\"Solved in: {} episodes and {} seconds\".format(total_episodes, time_spent))\n",
    "    return np.argmax(qtable, axis=1), total_episodes, time_spent, qtable, rewards"
   ]
  },
  {
   "cell_type": "code",
   "execution_count": 112,
   "metadata": {},
   "outputs": [],
   "source": [
    "def train_and_test_q_learning(env, discount=[0.9], total_episodes=[1e5], alphas=[0.1], decay_rates=[0.01], mute=False):\n",
    "    \n",
    "    min_epsilon = 0.01\n",
    "    \n",
    "    q_dict = {}\n",
    "    for dis in discount:\n",
    "        q_dict[dis] = {}\n",
    "        for eps in total_episodes:\n",
    "            q_dict[dis][eps] = {}\n",
    "            for alpha in alphas:\n",
    "                q_dict[dis][eps][alpha] = {}\n",
    "                for dr in decay_rates:\n",
    "                    q_dict[dis][eps][alpha][dr] = {}\n",
    "                    \n",
    "                    # run q_learning\n",
    "                    q_policy, q_solve_iter, q_solve_time, q_table, rewards = q_learning(env, dis, eps, alpha, dr, min_epsilon)\n",
    "                    q_mrews, q_meps, _, __ = test_policy(env, q_policy)\n",
    "                    q_dict[dis][eps][alpha][dr][\"mean_reward\"] = q_mrews\n",
    "                    q_dict[dis][eps][alpha][dr][\"mean_eps\"] = q_meps\n",
    "                    q_dict[dis][eps][alpha][dr][\"q-table\"] = q_table\n",
    "                    q_dict[dis][eps][alpha][dr][\"rewards\"] = rewards \n",
    "                    q_dict[dis][eps][alpha][dr][\"iteration\"] = q_solve_iter\n",
    "                    q_dict[dis][eps][alpha][dr][\"time_spent\"] = q_solve_time\n",
    "                    q_dict[dis][eps][alpha][dr][\"policy\"] = q_policy\n",
    "                    if not mute:\n",
    "                        print(\"gamma: {} total_eps: {} lr: {}, dr: {}\".format(dis, eps, alpha, dr))\n",
    "                        print(\"Iteration: {} time: {}\".format(q_solve_iter, q_solve_time))\n",
    "                        print(\"Mean reward: {} - mean eps: {}\".format(q_mrews, q_meps))\n",
    "    return q_dict"
   ]
  },
  {
   "cell_type": "code",
   "execution_count": 113,
   "metadata": {},
   "outputs": [],
   "source": [
    "def map_discretize(the_map):\n",
    "    size = len(the_map)\n",
    "    dis_map = np.zeros((size,size))\n",
    "    for i, row in enumerate(the_map):\n",
    "        for j, loc in enumerate(row):\n",
    "            if loc == \"S\":\n",
    "                dis_map[i, j] = 0\n",
    "            elif loc == \"F\":\n",
    "                dis_map[i, j] = 0\n",
    "            elif loc == \"H\":\n",
    "                dis_map[i, j] = -1\n",
    "            elif loc == \"G\":\n",
    "                dis_map[i, j] = 1\n",
    "    return dis_map\n",
    "\n",
    "\n",
    "def policy_numpy(policy):\n",
    "    size = int(np.sqrt(len(policy)))\n",
    "    pol = np.asarray(policy)\n",
    "    pol = pol.reshape((size, size))\n",
    "    return pol\n",
    "\n",
    "\n",
    "def see_policy(map_size, policy):\n",
    "    map_name = str(map_size)+\"x\"+str(map_size)\n",
    "    data = map_discretize(MAPS[map_name])\n",
    "    np_pol = policy_numpy(policy)\n",
    "    plt.imshow(data, interpolation=\"nearest\")\n",
    "\n",
    "    for i in range(np_pol[0].size):\n",
    "        for j in range(np_pol[0].size):\n",
    "            arrow = '\\u2190'\n",
    "            if np_pol[i, j] == 1:\n",
    "                arrow = '\\u2193'\n",
    "            elif np_pol[i, j] == 2:\n",
    "                arrow = '\\u2192'\n",
    "            elif np_pol[i, j] == 3:\n",
    "                arrow = '\\u2191'\n",
    "            text = plt.text(j, i, arrow,\n",
    "                           ha=\"center\", va=\"center\", color=\"w\")\n",
    "    plt.show()\n"
   ]
  },
  {
   "cell_type": "code",
   "execution_count": 114,
   "metadata": {},
   "outputs": [],
   "source": [
    "def dict_to_df(the_dict):\n",
    "    the_df = pd.DataFrame(columns=[\"Discount Rate\", \"Training Episodes\", \"Learning Rate\", \n",
    "                                   \"Decay Rate\", \"Reward\", \"Time Spent\"])\n",
    "    for dis in the_dict:\n",
    "        for eps in the_dict[dis]:\n",
    "            for lr in the_dict[dis][eps]:\n",
    "                for dr in the_dict[dis][eps][lr]:\n",
    "                    rew = the_dict[dis][eps][lr][dr][\"mean_reward\"]\n",
    "                    time_spent = the_dict[dis][eps][lr][dr][\"time_spent\"].total_seconds()\n",
    "                    dic = {\"Discount Rate\": dis, \"Training Episodes\": eps, \"Learning Rate\":lr, \n",
    "                           \"Decay Rate\":dr, \"Reward\": rew, \"Time Spent\": time_spent}\n",
    "                    the_df = the_df.append(dic, ignore_index=True)\n",
    "    return the_df"
   ]
  },
  {
   "cell_type": "code",
   "execution_count": 53,
   "metadata": {},
   "outputs": [],
   "source": [
    "import numpy as np\n",
    "def running_mean(x, N):\n",
    "    cumsum = np.cumsum(np.insert(x, 0, 0)) \n",
    "    return (cumsum[N:] - cumsum[:-N]) / float(N)"
   ]
  },
  {
   "cell_type": "code",
   "execution_count": 19,
   "metadata": {},
   "outputs": [
    {
     "name": "stdout",
     "output_type": "stream",
     "text": [
      "Solved in: 10000.0 episodes and 0:00:02.719267 seconds\n",
      "gamma: 0.75 total_eps: 10000.0 lr: 0.01, dr: 1e-06\n",
      "Iteration: 10000.0 time: 0:00:02.719267\n",
      "Mean reward: 0.329 - mean eps: 27.554\n",
      "Solved in: 10000.0 episodes and 0:00:03.034400 seconds\n",
      "gamma: 0.75 total_eps: 10000.0 lr: 0.1, dr: 1e-06\n",
      "Iteration: 10000.0 time: 0:00:03.034400\n",
      "Mean reward: 0.153 - mean eps: 13.535\n",
      "Solved in: 100000.0 episodes and 0:00:27.569628 seconds\n",
      "gamma: 0.75 total_eps: 100000.0 lr: 0.01, dr: 1e-06\n",
      "Iteration: 100000.0 time: 0:00:27.569628\n",
      "Mean reward: 0.504 - mean eps: 31.019\n",
      "Solved in: 100000.0 episodes and 0:00:27.294892 seconds\n",
      "gamma: 0.75 total_eps: 100000.0 lr: 0.1, dr: 1e-06\n",
      "Iteration: 100000.0 time: 0:00:27.294892\n",
      "Mean reward: 0.168 - mean eps: 16.819\n",
      "Solved in: 1000000.0 episodes and 0:06:05.840766 seconds\n",
      "gamma: 0.75 total_eps: 1000000.0 lr: 0.01, dr: 1e-06\n",
      "Iteration: 1000000.0 time: 0:06:05.840766\n",
      "Mean reward: 0.479 - mean eps: 30.105\n",
      "Solved in: 1000000.0 episodes and 0:05:30.373623 seconds\n",
      "gamma: 0.75 total_eps: 1000000.0 lr: 0.1, dr: 1e-06\n",
      "Iteration: 1000000.0 time: 0:05:30.373623\n",
      "Mean reward: 0.184 - mean eps: 16.181\n",
      "Solved in: 10000.0 episodes and 0:00:02.906132 seconds\n",
      "gamma: 0.9 total_eps: 10000.0 lr: 0.01, dr: 1e-06\n",
      "Iteration: 10000.0 time: 0:00:02.906132\n",
      "Mean reward: 0.311 - mean eps: 27.133\n",
      "Solved in: 10000.0 episodes and 0:00:02.974441 seconds\n",
      "gamma: 0.9 total_eps: 10000.0 lr: 0.1, dr: 1e-06\n",
      "Iteration: 10000.0 time: 0:00:02.974441\n",
      "Mean reward: 0.389 - mean eps: 27.236\n",
      "Solved in: 100000.0 episodes and 0:00:32.487802 seconds\n",
      "gamma: 0.9 total_eps: 100000.0 lr: 0.01, dr: 1e-06\n",
      "Iteration: 100000.0 time: 0:00:32.487802\n",
      "Mean reward: 0.519 - mean eps: 29.42\n",
      "Solved in: 100000.0 episodes and 0:00:30.324219 seconds\n",
      "gamma: 0.9 total_eps: 100000.0 lr: 0.1, dr: 1e-06\n",
      "Iteration: 100000.0 time: 0:00:30.324219\n",
      "Mean reward: 0.142 - mean eps: 9.306\n",
      "Solved in: 1000000.0 episodes and 0:08:27.751257 seconds\n",
      "gamma: 0.9 total_eps: 1000000.0 lr: 0.01, dr: 1e-06\n",
      "Iteration: 1000000.0 time: 0:08:27.751257\n",
      "Mean reward: 0.713 - mean eps: 41.837\n",
      "Solved in: 1000000.0 episodes and 0:07:29.414790 seconds\n",
      "gamma: 0.9 total_eps: 1000000.0 lr: 0.1, dr: 1e-06\n",
      "Iteration: 1000000.0 time: 0:07:29.414790\n",
      "Mean reward: 0.356 - mean eps: 30.238\n",
      "Solved in: 10000.0 episodes and 0:00:03.467231 seconds\n",
      "gamma: 0.99 total_eps: 10000.0 lr: 0.01, dr: 1e-06\n",
      "Iteration: 10000.0 time: 0:00:03.467231\n",
      "Mean reward: 0.279 - mean eps: 30.016\n",
      "Solved in: 10000.0 episodes and 0:00:03.513005 seconds\n",
      "gamma: 0.99 total_eps: 10000.0 lr: 0.1, dr: 1e-06\n",
      "Iteration: 10000.0 time: 0:00:03.513005\n",
      "Mean reward: 0.634 - mean eps: 39.8\n",
      "Solved in: 100000.0 episodes and 0:00:35.591003 seconds\n",
      "gamma: 0.99 total_eps: 100000.0 lr: 0.01, dr: 1e-06\n",
      "Iteration: 100000.0 time: 0:00:35.591003\n",
      "Mean reward: 0.727 - mean eps: 44.616\n",
      "Solved in: 100000.0 episodes and 0:00:34.899103 seconds\n",
      "gamma: 0.99 total_eps: 100000.0 lr: 0.1, dr: 1e-06\n",
      "Iteration: 100000.0 time: 0:00:34.899103\n",
      "Mean reward: 0.656 - mean eps: 39.2\n",
      "Solved in: 1000000.0 episodes and 0:09:20.615424 seconds\n",
      "gamma: 0.99 total_eps: 1000000.0 lr: 0.01, dr: 1e-06\n",
      "Iteration: 1000000.0 time: 0:09:20.615424\n",
      "Mean reward: 0.738 - mean eps: 45.914\n",
      "Solved in: 1000000.0 episodes and 0:09:20.159425 seconds\n",
      "gamma: 0.99 total_eps: 1000000.0 lr: 0.1, dr: 1e-06\n",
      "Iteration: 1000000.0 time: 0:09:20.159425\n",
      "Mean reward: 0.717 - mean eps: 40.683\n",
      "Solved in: 10000.0 episodes and 0:00:03.342833 seconds\n",
      "gamma: 0.9999 total_eps: 10000.0 lr: 0.01, dr: 1e-06\n",
      "Iteration: 10000.0 time: 0:00:03.342833\n",
      "Mean reward: 0.353 - mean eps: 23.581\n",
      "Solved in: 10000.0 episodes and 0:00:03.551396 seconds\n",
      "gamma: 0.9999 total_eps: 10000.0 lr: 0.1, dr: 1e-06\n",
      "Iteration: 10000.0 time: 0:00:03.551396\n",
      "Mean reward: 0.607 - mean eps: 50.228\n",
      "Solved in: 100000.0 episodes and 0:00:35.164678 seconds\n",
      "gamma: 0.9999 total_eps: 100000.0 lr: 0.01, dr: 1e-06\n",
      "Iteration: 100000.0 time: 0:00:35.164678\n",
      "Mean reward: 0.72 - mean eps: 45.576\n",
      "Solved in: 100000.0 episodes and 0:00:32.806962 seconds\n",
      "gamma: 0.9999 total_eps: 100000.0 lr: 0.1, dr: 1e-06\n",
      "Iteration: 100000.0 time: 0:00:32.806962\n",
      "Mean reward: 0.56 - mean eps: 59.452\n",
      "Solved in: 1000000.0 episodes and 0:09:26.654493 seconds\n",
      "gamma: 0.9999 total_eps: 1000000.0 lr: 0.01, dr: 1e-06\n",
      "Iteration: 1000000.0 time: 0:09:26.654493\n",
      "Mean reward: 0.753 - mean eps: 43.609\n",
      "Solved in: 1000000.0 episodes and 0:08:44.696273 seconds\n",
      "gamma: 0.9999 total_eps: 1000000.0 lr: 0.1, dr: 1e-06\n",
      "Iteration: 1000000.0 time: 0:08:44.696273\n",
      "Mean reward: 0.729 - mean eps: 46.779\n"
     ]
    }
   ],
   "source": [
    "env = gym.make('FrozenLake-v0')\n",
    "episodes = [1e4, 1e5, 1e6]\n",
    "decays = [1e-6]\n",
    "\n",
    "q_dict = train_and_test_q_learning(env, discount=[0.75, 0.9, 0.99, 0.9999], total_episodes=episodes,\n",
    "                          alphas=[0.01, 0.1], decay_rates=decays)"
   ]
  },
  {
   "cell_type": "code",
   "execution_count": 12,
   "metadata": {},
   "outputs": [
    {
     "data": {
      "image/png": "[encoded data removed]",
      "text/plain": [
       "<Figure size 432x288 with 1 Axes>"
      ]
     },
     "metadata": {
      "needs_background": "light"
     },
     "output_type": "display_data"
    }
   ],
   "source": [
    "pol = q_dict[0.99][int(1e6)][0.1][1e-06]['policy']\n",
    "see_policy(4, pol)"
   ]
  },
  {
   "cell_type": "code",
   "execution_count": 60,
   "metadata": {},
   "outputs": [
    {
     "name": "stdout",
     "output_type": "stream",
     "text": [
      "Solved in: 10000.0 episodes and 0:00:08.363291 seconds\n",
      "gamma: 0.9999 total_eps: 10000.0 lr: 0.1, dr: 0.001\n",
      "Iteration: 10000.0 time: 0:00:08.363291\n",
      "Mean reward: 0.747 - mean eps: 40.284\n",
      "Solved in: 10000.0 episodes and 0:00:02.830679 seconds\n",
      "gamma: 0.9999 total_eps: 10000.0 lr: 0.1, dr: 1e-05\n",
      "Iteration: 10000.0 time: 0:00:02.830679\n",
      "Mean reward: 0.726 - mean eps: 45.862\n",
      "Solved in: 10000.0 episodes and 0:00:02.436700 seconds\n",
      "gamma: 0.9999 total_eps: 10000.0 lr: 0.01, dr: 0.001\n",
      "Iteration: 10000.0 time: 0:00:02.436700\n",
      "Mean reward: 0.108 - mean eps: 10.882\n",
      "Solved in: 10000.0 episodes and 0:00:02.924997 seconds\n",
      "gamma: 0.9999 total_eps: 10000.0 lr: 0.01, dr: 1e-05\n",
      "Iteration: 10000.0 time: 0:00:02.924997\n",
      "Mean reward: 0.29 - mean eps: 27.295\n",
      "Solved in: 100000.0 episodes and 0:01:44.188003 seconds\n",
      "gamma: 0.9999 total_eps: 100000.0 lr: 0.1, dr: 0.001\n",
      "Iteration: 100000.0 time: 0:01:44.188003\n",
      "Mean reward: 0.591 - mean eps: 49.921\n",
      "Solved in: 100000.0 episodes and 0:00:53.979627 seconds\n",
      "gamma: 0.9999 total_eps: 100000.0 lr: 0.1, dr: 1e-05\n",
      "Iteration: 100000.0 time: 0:00:53.979627\n",
      "Mean reward: 0.546 - mean eps: 62.539\n",
      "Solved in: 100000.0 episodes and 0:00:46.713976 seconds\n",
      "gamma: 0.9999 total_eps: 100000.0 lr: 0.01, dr: 0.001\n",
      "Iteration: 100000.0 time: 0:00:46.713976\n",
      "Mean reward: 0.205 - mean eps: 27.75\n",
      "Solved in: 100000.0 episodes and 0:00:48.768106 seconds\n",
      "gamma: 0.9999 total_eps: 100000.0 lr: 0.01, dr: 1e-05\n",
      "Iteration: 100000.0 time: 0:00:48.768106\n",
      "Mean reward: 0.747 - mean eps: 44.021\n",
      "Solved in: 1000000.0 episodes and 0:18:40.504023 seconds\n",
      "gamma: 0.9999 total_eps: 1000000.0 lr: 0.1, dr: 0.001\n",
      "Iteration: 1000000.0 time: 0:18:40.504023\n",
      "Mean reward: 0.747 - mean eps: 45.115\n",
      "Solved in: 1000000.0 episodes and 0:16:53.372449 seconds\n",
      "gamma: 0.9999 total_eps: 1000000.0 lr: 0.1, dr: 1e-05\n",
      "Iteration: 1000000.0 time: 0:16:53.372449\n",
      "Mean reward: 0.641 - mean eps: 45.192\n",
      "Solved in: 1000000.0 episodes and 0:15:20.123316 seconds\n",
      "gamma: 0.9999 total_eps: 1000000.0 lr: 0.01, dr: 0.001\n",
      "Iteration: 1000000.0 time: 0:15:20.123316\n",
      "Mean reward: 0.747 - mean eps: 40.229\n",
      "Solved in: 1000000.0 episodes and 0:16:28.899270 seconds\n",
      "gamma: 0.9999 total_eps: 1000000.0 lr: 0.01, dr: 1e-05\n",
      "Iteration: 1000000.0 time: 0:16:28.899270\n",
      "Mean reward: 0.731 - mean eps: 45.412\n"
     ]
    }
   ],
   "source": [
    "episodes = [1e4, 1e5, 1e6]\n",
    "decays = [1e-3, 1e-5]\n",
    "q_dict = train_and_test_q_learning(env, discount= [0.9999], total_episodes=episodes,\n",
    "                          alphas=[0.1, 0.01], decay_rates=decays)"
   ]
  },
  {
   "cell_type": "code",
   "execution_count": 64,
   "metadata": {},
   "outputs": [
    {
     "data": {
      "text/plain": [
       "<matplotlib.axes._subplots.AxesSubplot at 0x7ff953be9e90>"
      ]
     },
     "execution_count": 64,
     "metadata": {},
     "output_type": "execute_result"
    },
    {
     "data": {
      "image/png": "[encoded data removed]",
      "text/plain": [
       "<Figure size 432x288 with 1 Axes>"
      ]
     },
     "metadata": {
      "needs_background": "light"
     },
     "output_type": "display_data"
    }
   ],
   "source": [
    "rews = q_dict[0.9999][int(1e6)][0.1][1e-03]['rewards']\n",
    "run = 1000\n",
    "rew_running = running_mean(rews, run)\n",
    "indices = [i+run for i in list(range(len(rew_running)))]\n",
    "sns.lineplot(np.log10(indices), rew_running)"
   ]
  },
  {
   "cell_type": "code",
   "execution_count": 65,
   "metadata": {},
   "outputs": [
    {
     "data": {
      "text/plain": [
       "<matplotlib.axes._subplots.AxesSubplot at 0x7ff94534b610>"
      ]
     },
     "execution_count": 65,
     "metadata": {},
     "output_type": "execute_result"
    },
    {
     "data": {
      "image/png": "[encoded data removed]",
      "text/plain": [
       "<Figure size 432x288 with 1 Axes>"
      ]
     },
     "metadata": {
      "needs_background": "light"
     },
     "output_type": "display_data"
    }
   ],
   "source": [
    "rews = q_dict[0.9999][int(1e6)][0.01][1e-03]['rewards']\n",
    "run = 1000\n",
    "rew_running = running_mean(rews, run)\n",
    "indices = [i+run for i in list(range(len(rew_running)))]\n",
    "sns.lineplot(np.log10(indices), rew_running)"
   ]
  },
  {
   "cell_type": "code",
   "execution_count": 66,
   "metadata": {},
   "outputs": [
    {
     "data": {
      "text/plain": [
       "<matplotlib.axes._subplots.AxesSubplot at 0x7ff957c9ad90>"
      ]
     },
     "execution_count": 66,
     "metadata": {},
     "output_type": "execute_result"
    },
    {
     "data": {
      "image/png": "[encoded data removed]",
      "text/plain": [
       "<Figure size 432x288 with 1 Axes>"
      ]
     },
     "metadata": {
      "needs_background": "light"
     },
     "output_type": "display_data"
    }
   ],
   "source": [
    "rews = q_dict[0.9999][int(1e6)][0.01][1e-05]['rewards']\n",
    "run = 1000\n",
    "rew_running = running_mean(rews, run)\n",
    "indices = [i+run for i in list(range(len(rew_running)))]\n",
    "sns.lineplot(np.log10(indices), rew_running)"
   ]
  },
  {
   "cell_type": "code",
   "execution_count": 79,
   "metadata": {},
   "outputs": [
    {
     "data": {
      "image/png": "[encoded data removed]",
      "text/plain": [
       "<Figure size 864x576 with 1 Axes>"
      ]
     },
     "metadata": {
      "needs_background": "light"
     },
     "output_type": "display_data"
    }
   ],
   "source": [
    "q4 = dict_to_df(q_dict)\n",
    "# plt.figure(figsize=(12, 8))\n",
    "pl = sns.lineplot(x=\"Training Episodes\", y=\"Reward\", data=q4)\n",
    "pl.figure.set_figwidth(12)\n",
    "pl.figure.set_figheight(8)"
   ]
  },
  {
   "cell_type": "code",
   "execution_count": 80,
   "metadata": {},
   "outputs": [
    {
     "data": {
      "text/html": [
       "<div>\n",
       "<style scoped>\n",
       "    .dataframe tbody tr th:only-of-type {\n",
       "        vertical-align: middle;\n",
       "    }\n",
       "\n",
       "    .dataframe tbody tr th {\n",
       "        vertical-align: top;\n",
       "    }\n",
       "\n",
       "    .dataframe thead th {\n",
       "        text-align: right;\n",
       "    }\n",
       "</style>\n",
       "<table border=\"1\" class=\"dataframe\">\n",
       "  <thead>\n",
       "    <tr style=\"text-align: right;\">\n",
       "      <th></th>\n",
       "      <th>Discount Rate</th>\n",
       "      <th>Training Episodes</th>\n",
       "      <th>Learning Rate</th>\n",
       "      <th>Decay Rate</th>\n",
       "      <th>Reward</th>\n",
       "      <th>Time Spent</th>\n",
       "    </tr>\n",
       "  </thead>\n",
       "  <tbody>\n",
       "    <tr>\n",
       "      <th>0</th>\n",
       "      <td>0.9999</td>\n",
       "      <td>10000.0</td>\n",
       "      <td>0.10</td>\n",
       "      <td>0.00100</td>\n",
       "      <td>0.747</td>\n",
       "      <td>8.363291</td>\n",
       "    </tr>\n",
       "    <tr>\n",
       "      <th>1</th>\n",
       "      <td>0.9999</td>\n",
       "      <td>10000.0</td>\n",
       "      <td>0.10</td>\n",
       "      <td>0.00001</td>\n",
       "      <td>0.726</td>\n",
       "      <td>2.830679</td>\n",
       "    </tr>\n",
       "    <tr>\n",
       "      <th>2</th>\n",
       "      <td>0.9999</td>\n",
       "      <td>10000.0</td>\n",
       "      <td>0.01</td>\n",
       "      <td>0.00100</td>\n",
       "      <td>0.108</td>\n",
       "      <td>2.436700</td>\n",
       "    </tr>\n",
       "    <tr>\n",
       "      <th>3</th>\n",
       "      <td>0.9999</td>\n",
       "      <td>10000.0</td>\n",
       "      <td>0.01</td>\n",
       "      <td>0.00001</td>\n",
       "      <td>0.290</td>\n",
       "      <td>2.924997</td>\n",
       "    </tr>\n",
       "    <tr>\n",
       "      <th>4</th>\n",
       "      <td>0.9999</td>\n",
       "      <td>100000.0</td>\n",
       "      <td>0.10</td>\n",
       "      <td>0.00100</td>\n",
       "      <td>0.591</td>\n",
       "      <td>104.188003</td>\n",
       "    </tr>\n",
       "    <tr>\n",
       "      <th>5</th>\n",
       "      <td>0.9999</td>\n",
       "      <td>100000.0</td>\n",
       "      <td>0.10</td>\n",
       "      <td>0.00001</td>\n",
       "      <td>0.546</td>\n",
       "      <td>53.979627</td>\n",
       "    </tr>\n",
       "    <tr>\n",
       "      <th>6</th>\n",
       "      <td>0.9999</td>\n",
       "      <td>100000.0</td>\n",
       "      <td>0.01</td>\n",
       "      <td>0.00100</td>\n",
       "      <td>0.205</td>\n",
       "      <td>46.713976</td>\n",
       "    </tr>\n",
       "    <tr>\n",
       "      <th>7</th>\n",
       "      <td>0.9999</td>\n",
       "      <td>100000.0</td>\n",
       "      <td>0.01</td>\n",
       "      <td>0.00001</td>\n",
       "      <td>0.747</td>\n",
       "      <td>48.768106</td>\n",
       "    </tr>\n",
       "    <tr>\n",
       "      <th>8</th>\n",
       "      <td>0.9999</td>\n",
       "      <td>1000000.0</td>\n",
       "      <td>0.10</td>\n",
       "      <td>0.00100</td>\n",
       "      <td>0.747</td>\n",
       "      <td>1120.504023</td>\n",
       "    </tr>\n",
       "    <tr>\n",
       "      <th>9</th>\n",
       "      <td>0.9999</td>\n",
       "      <td>1000000.0</td>\n",
       "      <td>0.10</td>\n",
       "      <td>0.00001</td>\n",
       "      <td>0.641</td>\n",
       "      <td>1013.372449</td>\n",
       "    </tr>\n",
       "    <tr>\n",
       "      <th>10</th>\n",
       "      <td>0.9999</td>\n",
       "      <td>1000000.0</td>\n",
       "      <td>0.01</td>\n",
       "      <td>0.00100</td>\n",
       "      <td>0.747</td>\n",
       "      <td>920.123316</td>\n",
       "    </tr>\n",
       "    <tr>\n",
       "      <th>11</th>\n",
       "      <td>0.9999</td>\n",
       "      <td>1000000.0</td>\n",
       "      <td>0.01</td>\n",
       "      <td>0.00001</td>\n",
       "      <td>0.731</td>\n",
       "      <td>988.899270</td>\n",
       "    </tr>\n",
       "  </tbody>\n",
       "</table>\n",
       "</div>"
      ],
      "text/plain": [
       "    Discount Rate  Training Episodes  Learning Rate  Decay Rate  Reward  \\\n",
       "0          0.9999            10000.0           0.10     0.00100   0.747   \n",
       "1          0.9999            10000.0           0.10     0.00001   0.726   \n",
       "2          0.9999            10000.0           0.01     0.00100   0.108   \n",
       "3          0.9999            10000.0           0.01     0.00001   0.290   \n",
       "4          0.9999           100000.0           0.10     0.00100   0.591   \n",
       "5          0.9999           100000.0           0.10     0.00001   0.546   \n",
       "6          0.9999           100000.0           0.01     0.00100   0.205   \n",
       "7          0.9999           100000.0           0.01     0.00001   0.747   \n",
       "8          0.9999          1000000.0           0.10     0.00100   0.747   \n",
       "9          0.9999          1000000.0           0.10     0.00001   0.641   \n",
       "10         0.9999          1000000.0           0.01     0.00100   0.747   \n",
       "11         0.9999          1000000.0           0.01     0.00001   0.731   \n",
       "\n",
       "     Time Spent  \n",
       "0      8.363291  \n",
       "1      2.830679  \n",
       "2      2.436700  \n",
       "3      2.924997  \n",
       "4    104.188003  \n",
       "5     53.979627  \n",
       "6     46.713976  \n",
       "7     48.768106  \n",
       "8   1120.504023  \n",
       "9   1013.372449  \n",
       "10   920.123316  \n",
       "11   988.899270  "
      ]
     },
     "execution_count": 80,
     "metadata": {},
     "output_type": "execute_result"
    }
   ],
   "source": [
    "q4"
   ]
  },
  {
   "cell_type": "code",
   "execution_count": 82,
   "metadata": {},
   "outputs": [
    {
     "data": {
      "image/png": "[encoded data removed]",
      "text/plain": [
       "<Figure size 432x288 with 1 Axes>"
      ]
     },
     "metadata": {
      "needs_background": "light"
     },
     "output_type": "display_data"
    }
   ],
   "source": [
    "pol = q_dict[0.9999][int(1e6)][0.01][1e-03]['policy']\n",
    "see_policy(4, pol)"
   ]
  },
  {
   "cell_type": "markdown",
   "metadata": {},
   "source": [
    "## 16x16"
   ]
  },
  {
   "cell_type": "code",
   "execution_count": 62,
   "metadata": {},
   "outputs": [
    {
     "name": "stdout",
     "output_type": "stream",
     "text": [
      "Solved in: 10000.0 episodes and 0:00:00.710954 seconds\n",
      "gamma: 0.9999 total_eps: 10000.0 lr: 0.1, dr: 0.001\n",
      "Iteration: 10000.0 time: 0:00:00.710954\n",
      "Mean reward: 0.0 - mean eps: 2.971\n",
      "Solved in: 10000.0 episodes and 0:00:01.609952 seconds\n",
      "gamma: 0.9999 total_eps: 10000.0 lr: 0.1, dr: 1e-05\n",
      "Iteration: 10000.0 time: 0:00:01.609952\n",
      "Mean reward: 0.0 - mean eps: 3.007\n",
      "Solved in: 10000.0 episodes and 0:00:00.851520 seconds\n",
      "gamma: 0.9999 total_eps: 10000.0 lr: 0.01, dr: 0.001\n",
      "Iteration: 10000.0 time: 0:00:00.851520\n",
      "Mean reward: 0.0 - mean eps: 2.935\n",
      "Solved in: 10000.0 episodes and 0:00:01.773063 seconds\n",
      "gamma: 0.9999 total_eps: 10000.0 lr: 0.01, dr: 1e-05\n",
      "Iteration: 10000.0 time: 0:00:01.773063\n",
      "Mean reward: 0.0 - mean eps: 3.061\n",
      "Solved in: 100000.0 episodes and 0:00:06.428837 seconds\n",
      "gamma: 0.9999 total_eps: 100000.0 lr: 0.1, dr: 0.001\n",
      "Iteration: 100000.0 time: 0:00:06.428837\n",
      "Mean reward: 0.0 - mean eps: 3.028\n",
      "Solved in: 100000.0 episodes and 0:00:12.025417 seconds\n",
      "gamma: 0.9999 total_eps: 100000.0 lr: 0.1, dr: 1e-05\n",
      "Iteration: 100000.0 time: 0:00:12.025417\n",
      "Mean reward: 0.0 - mean eps: 2.986\n",
      "Solved in: 100000.0 episodes and 0:00:07.981473 seconds\n",
      "gamma: 0.9999 total_eps: 100000.0 lr: 0.01, dr: 0.001\n",
      "Iteration: 100000.0 time: 0:00:07.981473\n",
      "Mean reward: 0.0 - mean eps: 3.065\n",
      "Solved in: 100000.0 episodes and 0:00:11.076562 seconds\n",
      "gamma: 0.9999 total_eps: 100000.0 lr: 0.01, dr: 1e-05\n",
      "Iteration: 100000.0 time: 0:00:11.076562\n",
      "Mean reward: 0.0 - mean eps: 3.009\n",
      "Solved in: 1000000.0 episodes and 0:01:02.562974 seconds\n",
      "gamma: 0.9999 total_eps: 1000000.0 lr: 0.1, dr: 0.001\n",
      "Iteration: 1000000.0 time: 0:01:02.562974\n",
      "Mean reward: 0.0 - mean eps: 2.861\n",
      "Solved in: 1000000.0 episodes and 0:01:07.106997 seconds\n",
      "gamma: 0.9999 total_eps: 1000000.0 lr: 0.1, dr: 1e-05\n",
      "Iteration: 1000000.0 time: 0:01:07.106997\n",
      "Mean reward: 0.0 - mean eps: 3.06\n",
      "Solved in: 1000000.0 episodes and 0:01:06.184676 seconds\n",
      "gamma: 0.9999 total_eps: 1000000.0 lr: 0.01, dr: 0.001\n",
      "Iteration: 1000000.0 time: 0:01:06.184676\n",
      "Mean reward: 0.0 - mean eps: 3.005\n",
      "Solved in: 1000000.0 episodes and 0:01:13.556381 seconds\n",
      "gamma: 0.9999 total_eps: 1000000.0 lr: 0.01, dr: 1e-05\n",
      "Iteration: 1000000.0 time: 0:01:13.556381\n",
      "Mean reward: 0.0 - mean eps: 2.958\n"
     ]
    }
   ],
   "source": [
    "env = FrozenLakeEnv(desc=MAPS[\"16x16\"])\n",
    "episodes = [1e4, 1e5, 1e6]\n",
    "decays = [1e-3, 1e-5]\n",
    "q_dict16 = train_and_test_q_learning(env, discount= [0.9999], total_episodes=episodes,\n",
    "                          alphas=[0.1, 0.01], decay_rates=decays)"
   ]
  },
  {
   "cell_type": "code",
   "execution_count": 85,
   "metadata": {},
   "outputs": [
    {
     "data": {
      "image/png": "[encoded data removed]",
      "text/plain": [
       "<Figure size 432x288 with 1 Axes>"
      ]
     },
     "metadata": {
      "needs_background": "light"
     },
     "output_type": "display_data"
    }
   ],
   "source": [
    "pol = q_dict16[0.9999][int(1e6)][0.1][1e-05]['policy']\n",
    "see_policy(16, pol)"
   ]
  },
  {
   "cell_type": "code",
   "execution_count": 88,
   "metadata": {},
   "outputs": [
    {
     "data": {
      "text/plain": [
       "False"
      ]
     },
     "execution_count": 88,
     "metadata": {},
     "output_type": "execute_result"
    }
   ],
   "source": [
    "(q_dict16[0.9999][int(1e6)][0.1][1e-05]['q-table'] > 0).any()"
   ]
  },
  {
   "cell_type": "code",
   "execution_count": 89,
   "metadata": {},
   "outputs": [
    {
     "data": {
      "text/html": [
       "<div>\n",
       "<style scoped>\n",
       "    .dataframe tbody tr th:only-of-type {\n",
       "        vertical-align: middle;\n",
       "    }\n",
       "\n",
       "    .dataframe tbody tr th {\n",
       "        vertical-align: top;\n",
       "    }\n",
       "\n",
       "    .dataframe thead th {\n",
       "        text-align: right;\n",
       "    }\n",
       "</style>\n",
       "<table border=\"1\" class=\"dataframe\">\n",
       "  <thead>\n",
       "    <tr style=\"text-align: right;\">\n",
       "      <th></th>\n",
       "      <th>Discount Rate</th>\n",
       "      <th>Training Episodes</th>\n",
       "      <th>Learning Rate</th>\n",
       "      <th>Decay Rate</th>\n",
       "      <th>Reward</th>\n",
       "      <th>Time Spent</th>\n",
       "    </tr>\n",
       "  </thead>\n",
       "  <tbody>\n",
       "    <tr>\n",
       "      <th>0</th>\n",
       "      <td>0.9999</td>\n",
       "      <td>10000.0</td>\n",
       "      <td>0.10</td>\n",
       "      <td>0.00100</td>\n",
       "      <td>0.0</td>\n",
       "      <td>0.710954</td>\n",
       "    </tr>\n",
       "    <tr>\n",
       "      <th>1</th>\n",
       "      <td>0.9999</td>\n",
       "      <td>10000.0</td>\n",
       "      <td>0.10</td>\n",
       "      <td>0.00001</td>\n",
       "      <td>0.0</td>\n",
       "      <td>1.609952</td>\n",
       "    </tr>\n",
       "    <tr>\n",
       "      <th>2</th>\n",
       "      <td>0.9999</td>\n",
       "      <td>10000.0</td>\n",
       "      <td>0.01</td>\n",
       "      <td>0.00100</td>\n",
       "      <td>0.0</td>\n",
       "      <td>0.851520</td>\n",
       "    </tr>\n",
       "    <tr>\n",
       "      <th>3</th>\n",
       "      <td>0.9999</td>\n",
       "      <td>10000.0</td>\n",
       "      <td>0.01</td>\n",
       "      <td>0.00001</td>\n",
       "      <td>0.0</td>\n",
       "      <td>1.773063</td>\n",
       "    </tr>\n",
       "    <tr>\n",
       "      <th>4</th>\n",
       "      <td>0.9999</td>\n",
       "      <td>100000.0</td>\n",
       "      <td>0.10</td>\n",
       "      <td>0.00100</td>\n",
       "      <td>0.0</td>\n",
       "      <td>6.428837</td>\n",
       "    </tr>\n",
       "    <tr>\n",
       "      <th>5</th>\n",
       "      <td>0.9999</td>\n",
       "      <td>100000.0</td>\n",
       "      <td>0.10</td>\n",
       "      <td>0.00001</td>\n",
       "      <td>0.0</td>\n",
       "      <td>12.025417</td>\n",
       "    </tr>\n",
       "    <tr>\n",
       "      <th>6</th>\n",
       "      <td>0.9999</td>\n",
       "      <td>100000.0</td>\n",
       "      <td>0.01</td>\n",
       "      <td>0.00100</td>\n",
       "      <td>0.0</td>\n",
       "      <td>7.981473</td>\n",
       "    </tr>\n",
       "    <tr>\n",
       "      <th>7</th>\n",
       "      <td>0.9999</td>\n",
       "      <td>100000.0</td>\n",
       "      <td>0.01</td>\n",
       "      <td>0.00001</td>\n",
       "      <td>0.0</td>\n",
       "      <td>11.076562</td>\n",
       "    </tr>\n",
       "    <tr>\n",
       "      <th>8</th>\n",
       "      <td>0.9999</td>\n",
       "      <td>1000000.0</td>\n",
       "      <td>0.10</td>\n",
       "      <td>0.00100</td>\n",
       "      <td>0.0</td>\n",
       "      <td>62.562974</td>\n",
       "    </tr>\n",
       "    <tr>\n",
       "      <th>9</th>\n",
       "      <td>0.9999</td>\n",
       "      <td>1000000.0</td>\n",
       "      <td>0.10</td>\n",
       "      <td>0.00001</td>\n",
       "      <td>0.0</td>\n",
       "      <td>67.106997</td>\n",
       "    </tr>\n",
       "    <tr>\n",
       "      <th>10</th>\n",
       "      <td>0.9999</td>\n",
       "      <td>1000000.0</td>\n",
       "      <td>0.01</td>\n",
       "      <td>0.00100</td>\n",
       "      <td>0.0</td>\n",
       "      <td>66.184676</td>\n",
       "    </tr>\n",
       "    <tr>\n",
       "      <th>11</th>\n",
       "      <td>0.9999</td>\n",
       "      <td>1000000.0</td>\n",
       "      <td>0.01</td>\n",
       "      <td>0.00001</td>\n",
       "      <td>0.0</td>\n",
       "      <td>73.556381</td>\n",
       "    </tr>\n",
       "  </tbody>\n",
       "</table>\n",
       "</div>"
      ],
      "text/plain": [
       "    Discount Rate  Training Episodes  Learning Rate  Decay Rate  Reward  \\\n",
       "0          0.9999            10000.0           0.10     0.00100     0.0   \n",
       "1          0.9999            10000.0           0.10     0.00001     0.0   \n",
       "2          0.9999            10000.0           0.01     0.00100     0.0   \n",
       "3          0.9999            10000.0           0.01     0.00001     0.0   \n",
       "4          0.9999           100000.0           0.10     0.00100     0.0   \n",
       "5          0.9999           100000.0           0.10     0.00001     0.0   \n",
       "6          0.9999           100000.0           0.01     0.00100     0.0   \n",
       "7          0.9999           100000.0           0.01     0.00001     0.0   \n",
       "8          0.9999          1000000.0           0.10     0.00100     0.0   \n",
       "9          0.9999          1000000.0           0.10     0.00001     0.0   \n",
       "10         0.9999          1000000.0           0.01     0.00100     0.0   \n",
       "11         0.9999          1000000.0           0.01     0.00001     0.0   \n",
       "\n",
       "    Time Spent  \n",
       "0     0.710954  \n",
       "1     1.609952  \n",
       "2     0.851520  \n",
       "3     1.773063  \n",
       "4     6.428837  \n",
       "5    12.025417  \n",
       "6     7.981473  \n",
       "7    11.076562  \n",
       "8    62.562974  \n",
       "9    67.106997  \n",
       "10   66.184676  \n",
       "11   73.556381  "
      ]
     },
     "execution_count": 89,
     "metadata": {},
     "output_type": "execute_result"
    }
   ],
   "source": [
    "q16 = dict_to_df(q_dict16)\n",
    "q16"
   ]
  },
  {
   "cell_type": "code",
   "execution_count": null,
   "metadata": {},
   "outputs": [],
   "source": []
  },
  {
   "cell_type": "code",
   "execution_count": null,
   "metadata": {},
   "outputs": [],
   "source": []
  },
  {
   "cell_type": "code",
   "execution_count": null,
   "metadata": {},
   "outputs": [],
   "source": []
  },
  {
   "cell_type": "code",
   "execution_count": null,
   "metadata": {},
   "outputs": [],
   "source": []
  },
  {
   "cell_type": "code",
   "execution_count": 1,
   "metadata": {},
   "outputs": [
    {
     "ename": "EOFError",
     "evalue": "Ran out of input",
     "output_type": "error",
     "traceback": [
      "\u001b[0;31m---------------------------------------------------------------------------\u001b[0m",
      "\u001b[0;31mEOFError\u001b[0m                                  Traceback (most recent call last)",
      "\u001b[0;32m<ipython-input-1-993de62e6067>\u001b[0m in \u001b[0;36m<module>\u001b[0;34m\u001b[0m\n\u001b[1;32m      1\u001b[0m \u001b[0;32mimport\u001b[0m \u001b[0mdill\u001b[0m\u001b[0;34m\u001b[0m\u001b[0;34m\u001b[0m\u001b[0m\n\u001b[0;32m----> 2\u001b[0;31m \u001b[0mdill\u001b[0m\u001b[0;34m.\u001b[0m\u001b[0mload_session\u001b[0m\u001b[0;34m(\u001b[0m\u001b[0;34m'qlearning_all.db'\u001b[0m\u001b[0;34m)\u001b[0m\u001b[0;34m\u001b[0m\u001b[0;34m\u001b[0m\u001b[0m\n\u001b[0m",
      "\u001b[0;32m~/anaconda3/lib/python3.7/site-packages/dill/_dill.py\u001b[0m in \u001b[0;36mload_session\u001b[0;34m(filename, main, **kwds)\u001b[0m\n\u001b[1;32m    366\u001b[0m         \u001b[0munpickler\u001b[0m\u001b[0;34m.\u001b[0m\u001b[0m_main\u001b[0m \u001b[0;34m=\u001b[0m \u001b[0mmain\u001b[0m\u001b[0;34m\u001b[0m\u001b[0;34m\u001b[0m\u001b[0m\n\u001b[1;32m    367\u001b[0m         \u001b[0munpickler\u001b[0m\u001b[0;34m.\u001b[0m\u001b[0m_session\u001b[0m \u001b[0;34m=\u001b[0m \u001b[0;32mTrue\u001b[0m\u001b[0;34m\u001b[0m\u001b[0;34m\u001b[0m\u001b[0m\n\u001b[0;32m--> 368\u001b[0;31m         \u001b[0mmodule\u001b[0m \u001b[0;34m=\u001b[0m \u001b[0munpickler\u001b[0m\u001b[0;34m.\u001b[0m\u001b[0mload\u001b[0m\u001b[0;34m(\u001b[0m\u001b[0;34m)\u001b[0m\u001b[0;34m\u001b[0m\u001b[0;34m\u001b[0m\u001b[0m\n\u001b[0m\u001b[1;32m    369\u001b[0m         \u001b[0munpickler\u001b[0m\u001b[0;34m.\u001b[0m\u001b[0m_session\u001b[0m \u001b[0;34m=\u001b[0m \u001b[0;32mFalse\u001b[0m\u001b[0;34m\u001b[0m\u001b[0;34m\u001b[0m\u001b[0m\n\u001b[1;32m    370\u001b[0m         \u001b[0mmain\u001b[0m\u001b[0;34m.\u001b[0m\u001b[0m__dict__\u001b[0m\u001b[0;34m.\u001b[0m\u001b[0mupdate\u001b[0m\u001b[0;34m(\u001b[0m\u001b[0mmodule\u001b[0m\u001b[0;34m.\u001b[0m\u001b[0m__dict__\u001b[0m\u001b[0;34m)\u001b[0m\u001b[0;34m\u001b[0m\u001b[0;34m\u001b[0m\u001b[0m\n",
      "\u001b[0;32m~/anaconda3/lib/python3.7/site-packages/dill/_dill.py\u001b[0m in \u001b[0;36mload\u001b[0;34m(self)\u001b[0m\n\u001b[1;32m    470\u001b[0m \u001b[0;34m\u001b[0m\u001b[0m\n\u001b[1;32m    471\u001b[0m     \u001b[0;32mdef\u001b[0m \u001b[0mload\u001b[0m\u001b[0;34m(\u001b[0m\u001b[0mself\u001b[0m\u001b[0;34m)\u001b[0m\u001b[0;34m:\u001b[0m \u001b[0;31m#NOTE: if settings change, need to update attributes\u001b[0m\u001b[0;34m\u001b[0m\u001b[0;34m\u001b[0m\u001b[0m\n\u001b[0;32m--> 472\u001b[0;31m         \u001b[0mobj\u001b[0m \u001b[0;34m=\u001b[0m \u001b[0mStockUnpickler\u001b[0m\u001b[0;34m.\u001b[0m\u001b[0mload\u001b[0m\u001b[0;34m(\u001b[0m\u001b[0mself\u001b[0m\u001b[0;34m)\u001b[0m\u001b[0;34m\u001b[0m\u001b[0;34m\u001b[0m\u001b[0m\n\u001b[0m\u001b[1;32m    473\u001b[0m         \u001b[0;32mif\u001b[0m \u001b[0mtype\u001b[0m\u001b[0;34m(\u001b[0m\u001b[0mobj\u001b[0m\u001b[0;34m)\u001b[0m\u001b[0;34m.\u001b[0m\u001b[0m__module__\u001b[0m \u001b[0;34m==\u001b[0m \u001b[0mgetattr\u001b[0m\u001b[0;34m(\u001b[0m\u001b[0m_main_module\u001b[0m\u001b[0;34m,\u001b[0m \u001b[0;34m'__name__'\u001b[0m\u001b[0;34m,\u001b[0m \u001b[0;34m'__main__'\u001b[0m\u001b[0;34m)\u001b[0m\u001b[0;34m:\u001b[0m\u001b[0;34m\u001b[0m\u001b[0;34m\u001b[0m\u001b[0m\n\u001b[1;32m    474\u001b[0m             \u001b[0;32mif\u001b[0m \u001b[0;32mnot\u001b[0m \u001b[0mself\u001b[0m\u001b[0;34m.\u001b[0m\u001b[0m_ignore\u001b[0m\u001b[0;34m:\u001b[0m\u001b[0;34m\u001b[0m\u001b[0;34m\u001b[0m\u001b[0m\n",
      "\u001b[0;31mEOFError\u001b[0m: Ran out of input"
     ]
    }
   ],
   "source": [
    "import dill\n",
    "dill.load_session('qlearning_all.db')"
   ]
  },
  {
   "cell_type": "code",
   "execution_count": null,
   "metadata": {},
   "outputs": [],
   "source": []
  }
 ],
 "metadata": {
  "kernelspec": {
   "display_name": "Python 3",
   "language": "python",
   "name": "python3"
  },
  "language_info": {
   "codemirror_mode": {
    "name": "ipython",
    "version": 3
   },
   "file_extension": ".py",
   "mimetype": "text/x-python",
   "name": "python",
   "nbconvert_exporter": "python",
   "pygments_lexer": "ipython3",
   "version": "3.7.10"
  },
  "pycharm": {
   "stem_cell": {
    "cell_type": "raw",
    "metadata": {
     "collapsed": false
    },
    "source": []
   }
  }
 },
 "nbformat": 4,
 "nbformat_minor": 4
}
