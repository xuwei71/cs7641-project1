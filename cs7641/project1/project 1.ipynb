{
 "cells": [
  {
   "cell_type": "code",
   "execution_count": null,
   "metadata": {},
   "outputs": [],
   "source": [
    "\n"
   ]
  },
  {
   "cell_type": "code",
   "execution_count": 965,
   "metadata": {},
   "outputs": [],
   "source": [
    "import numpy as np\n",
    "import random \n",
    "import pandas as pd\n",
    "import matplotlib.pyplot as plt\n",
    "import pickle\n",
    "import sklearn as sl\n",
    "from sklearn import tree\n",
    "from sklearn.ensemble import RandomForestClassifier\n",
    "from sklearn.neural_network import MLPClassifier\n",
    "from sklearn.neighbors import KNeighborsClassifier\n",
    "from sklearn.ensemble import GradientBoostingClassifier as GBC\n",
    "from sklearn import svm\n",
    "from sklearn.svm import SVC\n",
    "from sklearn.preprocessing import StandardScaler\n",
    "from sklearn.model_selection import RepeatedStratifiedKFold\n",
    "from sklearn.model_selection import ShuffleSplit\n",
    "from sklearn.model_selection import GridSearchCV\n",
    "from sklearn.model_selection import train_test_split\n",
    "import csv\n",
    "from sklearn.model_selection import learning_curve\n",
    "from sklearn.model_selection import validation_curve\n",
    "from sklearn.ensemble import GradientBoostingClassifier, GradientBoostingRegressor"
   ]
  },
  {
   "cell_type": "code",
   "execution_count": 966,
   "metadata": {},
   "outputs": [],
   "source": [
    "def replace_a_column (array, column_number, transformed_column):\n",
    "    for i in range(len(array)):\n",
    "        array[i][column_number]=transformed_column[i][0]\n",
    "    return array"
   ]
  },
  {
   "cell_type": "code",
   "execution_count": 967,
   "metadata": {},
   "outputs": [],
   "source": [
    "data=np.genfromtxt(\"processed.cleveland.data\",delimiter=\",\")\n",
    "num_row=np.shape(data)[0]\n",
    "row_contain_nan=[]\n",
    "for i in range(num_row):\n",
    "    if (np.any(np.isnan(data[i]))):\n",
    "        row_contain_nan.append(i)\n",
    "        \n",
    "#print (row_contain_nan)\n",
    "\n",
    "\n",
    "data=np.delete(data,row_contain_nan,axis=0)\n",
    "#print (type(data[0][12]))\n",
    "#print (data[:,3])\n",
    "\n",
    "for i in [3,4,7,9]:\n",
    "    \n",
    "    scaler = StandardScaler()\n",
    "    #print(\"column\",i, data[:,i])\n",
    "    temp_column=data[:,i].reshape(-1,1)\n",
    "    scaler.fit(temp_column)\n",
    "    data=replace_a_column(data,i,scaler.transform(temp_column))\n",
    "    #print(\"transformed column\",i,data[:,i])\n",
    "train_data_raw=data[0:int(num_row*0.7),:]\n",
    "test_data_raw=data[(int(num_row*0.3)+1):(num_row-1),:]\n",
    "train_data=np.delete(train_data_raw, -1, axis=1)\n",
    "test_data=np.delete(test_data_raw, -1, axis=1)\n",
    "train_lable=train_data_raw[:,-1]\n",
    "for i in range(len(train_lable)): \n",
    "    if train_lable[i]>0:\n",
    "        train_lable[i]=1\n",
    "        \n",
    "#print(train_lable)\n",
    "test_lable=test_data_raw[:,-1]\n",
    "for i in range(len(test_lable)): \n",
    "    if test_lable[i]>0:\n",
    "        test_lable[i]=1\n",
    "#print (test_lable)\n"
   ]
  },
  {
   "cell_type": "code",
   "execution_count": 968,
   "metadata": {},
   "outputs": [],
   "source": [
    "data_breast_cancer=np.genfromtxt(\"breast-cancer-wisconsin.data\",delimiter=\",\")\n",
    "num_row=np.shape(data_breast_cancer)[0]\n",
    "for i in range(num_row):\n",
    "    if (np.any(np.isnan(data_breast_cancer[i]))):\n",
    "        row_contain_nan.append(i)\n",
    "data_breast_cancer=np.delete(data_breast_cancer,row_contain_nan,axis=0)        \n",
    "#print (row_contain_nan)\n",
    "data_breast_cancer=np.delete(data_breast_cancer,0, axis=1)\n",
    "\n",
    "\n",
    "X_breast_cancer=np.delete(data_breast_cancer, -1, axis=1)\n",
    "#print(X_breast_cancer)\n",
    "y_breast_cancer=data_breast_cancer[:,-1]\n",
    "for i in range (0, len(y_breast_cancer)):\n",
    "    y_breast_cancer[i]=y_breast_cancer[i]/2-1\n",
    "#print(y_breast_cancer)\n",
    "breast_cancer_train, breast_cancer_test, breast_cancer_lable_train, breast_cancer_lable_test = train_test_split(X_breast_cancer, y_breast_cancer, test_size=0.3, random_state=42)\n",
    "#print ()"
   ]
  },
  {
   "cell_type": "code",
   "execution_count": 970,
   "metadata": {},
   "outputs": [],
   "source": [
    "def decision_tree_gridSearch (train_data,train_lable):\n",
    "    clf =tree.DecisionTreeClassifier()\n",
    "    \n",
    "    param_grid = {'criterion': ['gini', 'entropy'], 'max_depth': range(1,10),'min_samples_split': range(2,10),  'min_samples_leaf': range(1,5),}\n",
    "    \n",
    "    # define evaluation\n",
    "    #cv = RepeatedStratifiedKFold(n_splits=60, n_repeats=3, random_state=1)\n",
    "    # define the search\n",
    "    grid = GridSearchCV(clf,param_grid,refit=True,verbose=2)\n",
    "    grid.fit(train_data, train_lable)\n",
    "    \n",
    "    \n",
    "    return grid.best_params_"
   ]
  },
  {
   "cell_type": "code",
   "execution_count": 971,
   "metadata": {},
   "outputs": [],
   "source": [
    "#print(decision_tree_gridSearch(breast_cancer_train, breast_cancer_lable_train))"
   ]
  },
  {
   "cell_type": "code",
   "execution_count": 972,
   "metadata": {},
   "outputs": [],
   "source": [
    "def plot_learning_curve(estimator, title, X, y, axes=None, ylim=None, cv=None,\n",
    "                        n_jobs=None, train_sizes=np.linspace(.1, 1.0, 5)):\n",
    "   \n",
    "    if axes is None:\n",
    "        _, axes = plt.subplots(2, figsize=(20, 10))\n",
    "\n",
    "    axes[0].set_title(title)\n",
    "    if ylim is not None:\n",
    "        axes[0].set_ylim(*ylim)\n",
    "    axes[0].set_xlabel(\"Training examples\")\n",
    "    axes[0].set_ylabel(\"Score\")\n",
    "\n",
    "    train_sizes, train_scores, test_scores, fit_times, test_times = \\\n",
    "        learning_curve(estimator, X, y, cv=cv, n_jobs=n_jobs,\n",
    "                       train_sizes=train_sizes,\n",
    "                       return_times=True)\n",
    "    train_scores_mean = np.mean(train_scores, axis=1)\n",
    "    train_scores_std = np.std(train_scores, axis=1)\n",
    "    test_scores_mean = np.mean(test_scores, axis=1)\n",
    "    test_scores_std = np.std(test_scores, axis=1)\n",
    "    fit_times_mean = np.mean(fit_times, axis=1)\n",
    "    fit_times_std = np.std(fit_times, axis=1)\n",
    "    test_times_mean= np.mean(test_times, axis=1)\n",
    "    test_times_std = np.std(test_times, axis=1)\n",
    "\n",
    "    # Plot learning curve\n",
    "    axes[0].grid()\n",
    "    axes[0].fill_between(train_sizes, train_scores_mean - train_scores_std,\n",
    "                         train_scores_mean + train_scores_std, alpha=0.1,\n",
    "                         color=\"r\")\n",
    "    axes[0].fill_between(train_sizes, test_scores_mean - test_scores_std,\n",
    "                         test_scores_mean + test_scores_std, alpha=0.1,\n",
    "                         color=\"g\")\n",
    "    axes[0].plot(train_sizes, train_scores_mean, 'o-', color=\"r\",\n",
    "                 label=\"Training score\")\n",
    "    \n",
    "    \n",
    "    axes[0].plot(train_sizes, test_scores_mean, 'o-', color=\"g\",\n",
    "                 label=\"Cross-validation score\")\n",
    "    axes[0].legend(loc=\"best\")\n",
    "\n",
    "    # Plot n_samples vs fit_times\n",
    "    axes[1].grid()\n",
    "    axes[1].fill_between(train_sizes, fit_times_mean - fit_times_std,\n",
    "                         fit_times_mean + fit_times_std, alpha=0.1, color=\"r\")\n",
    "    axes[1].fill_between(train_sizes, test_times_mean - test_times_std,\n",
    "                         test_times_mean + test_times_std, alpha=0.1, color=\"g\")\n",
    "    axes[1].plot(train_sizes, fit_times_mean, 'o-', color=\"r\", label=\"Training time\")\n",
    "    axes[1].plot(train_sizes, test_times_mean, 'o-', color=\"g\", label=\"Testing time\")\n",
    "    axes[1].set_xlabel(\"Training examples\")\n",
    "    axes[1].set_ylabel(\"times\")\n",
    "    axes[1].set_title(\"Scalability of the model\")\n",
    "    axes[1].legend(loc=\"best\")\n",
    "\n",
    "    # Plot fit_time vs score\n",
    "    #axes[2].grid()\n",
    "    #axes[2].plot(fit_times_mean, test_scores_mean, 'o-')\n",
    "    #axes[2].fill_between(fit_times_mean, test_scores_mean - test_scores_std,test_scores_mean + test_scores_std, alpha=0.1)\n",
    "    #axes[2].set_xlabel(\"fit_times\")\n",
    "    #axes[2].set_ylabel(\"Score\")\n",
    "    #axes[2].set_title(\"Performance of the model\")\n",
    "\n",
    "    return plt"
   ]
  },
  {
   "cell_type": "code",
   "execution_count": 973,
   "metadata": {},
   "outputs": [],
   "source": [
    "def decision_tree_learning_curve(title,X,y):\n",
    "    fig, axes = plt.subplots(2, 2, figsize=(10, 15))\n",
    "\n",
    "\n",
    "    parameter=decision_tree_gridSearch (X,y)\n",
    "    # Cross validation with 100 iterations to get smoother mean test and train\n",
    "    # score curves, each time with 20% data randomly selected as a validation set.\n",
    "    cv = ShuffleSplit(n_splits=100, test_size=0.2, random_state=0)\n",
    "\n",
    "    estimator =tree.DecisionTreeClassifier(criterion=parameter[\"criterion\"], max_depth=parameter[\"max_depth\"], min_samples_leaf=parameter[\"min_samples_leaf\"], min_samples_split=parameter[\"min_samples_split\"])\n",
    "    plot_learning_curve(estimator, title, X, y, axes=axes[:, 0], ylim=(0.7, 1.01),\n",
    "                    cv=cv, n_jobs=4)\n",
    "\n",
    "\n",
    "    plt.show()\n",
    "    plt.close()"
   ]
  },
  {
   "cell_type": "code",
   "execution_count": 974,
   "metadata": {},
   "outputs": [],
   "source": [
    "\n",
    "#decision_tree_learning_curve(\"breast Cancer Learning Curve\",breast_cancer_train, breast_cancer_lable_train)"
   ]
  },
  {
   "cell_type": "code",
   "execution_count": 975,
   "metadata": {},
   "outputs": [],
   "source": [
    "#decision_tree_learning_curve(\"Heart Disease Learning Curve\",train_data, train_lable)"
   ]
  },
  {
   "cell_type": "code",
   "execution_count": 976,
   "metadata": {},
   "outputs": [],
   "source": [
    " def validationCurve(estimator, title, X, y,parameter, param_range):\n",
    "     \n",
    "    train_scores, test_scores = validation_curve (estimator, X, y, param_name=parameter, param_range=param_range,scoring=\"accuracy\", n_jobs=1)\n",
    "    \n",
    "    train_scores_mean = np.mean(train_scores, axis=1)\n",
    "    train_scores_std = np.std(train_scores, axis=1)\n",
    "    test_scores_mean = np.mean(test_scores, axis=1)\n",
    "    test_scores_std = np.std(test_scores, axis=1)\n",
    "\n",
    "    plt.title(title)\n",
    "    plt.xlabel(parameter)\n",
    "    plt.ylabel(\"Score\")\n",
    "    plt.ylim(0.0, 1.1)\n",
    "    lw = 2\n",
    "    plt.plot(param_range, train_scores_mean, label=\"Training score\", color=\"red\", lw=lw)\n",
    "    plt.fill_between(param_range, train_scores_mean - train_scores_std,train_scores_mean + train_scores_std, alpha=0.2,color=\"red\", lw=lw)\n",
    "    plt.plot(param_range, test_scores_mean, label=\"Cross-validation score\", color=\"green\", lw=lw)\n",
    "    plt.fill_between(param_range, test_scores_mean - test_scores_std, test_scores_mean + test_scores_std, alpha=0.2,color=\"green\", lw=lw)\n",
    "    plt.legend(loc=\"best\")\n",
    "    plt.show()"
   ]
  },
  {
   "cell_type": "code",
   "execution_count": 977,
   "metadata": {},
   "outputs": [],
   "source": [
    "def decision_tree_validation_curve(title,X,y):\n",
    "    \n",
    "    parameter=decision_tree_gridSearch (X,y)\n",
    "    \n",
    "\n",
    "    estimator =tree.DecisionTreeClassifier(criterion=parameter[\"criterion\"], min_samples_leaf=parameter[\"min_samples_leaf\"], min_samples_split=parameter[\"min_samples_split\"])\n",
    "    validationCurve(estimator, title, X, y, \"max_depth\", range(1,10))\n",
    "\n",
    "\n",
    "    "
   ]
  },
  {
   "cell_type": "code",
   "execution_count": 978,
   "metadata": {},
   "outputs": [],
   "source": [
    "#decision_tree_validation_curve(\"Breast Cancer Validation Curve\",breast_cancer_train, breast_cancer_lable_train)"
   ]
  },
  {
   "cell_type": "code",
   "execution_count": 979,
   "metadata": {},
   "outputs": [],
   "source": [
    "#decision_tree_validation_curve(\"Heart Disease Validation Curve\",train_data, train_lable)"
   ]
  },
  {
   "cell_type": "code",
   "execution_count": 981,
   "metadata": {},
   "outputs": [],
   "source": [
    "#decisionTree_criterion_plot()"
   ]
  },
  {
   "cell_type": "code",
   "execution_count": 982,
   "metadata": {},
   "outputs": [],
   "source": [
    "def decisionTree_maxDepth_plot(title,train_data, train_lable, test_data, test_lable):\n",
    "    Acc=[]\n",
    "    FP=[]\n",
    "    FN=[]\n",
    "    parameter=decision_tree_gridSearch (train_data, train_lable)\n",
    "    for each in range(1,10):\n",
    "        clf =tree.DecisionTreeClassifier(criterion=parameter[\"criterion\"], max_depth=each, min_samples_leaf=parameter[\"min_samples_leaf\"], min_samples_split=parameter[\"min_samples_split\"])\n",
    "        clf = clf.fit(train_data, train_lable)\n",
    "        score=clf.score(test_data, test_lable)\n",
    "        Acc.append(score)\n",
    "        \n",
    "    raw_data = {'Accuracy': Acc}\n",
    "\n",
    "    df1 = pd.DataFrame(raw_data,\n",
    "                  index=pd.Index(range(1,10), name='Parameters Name'),\n",
    "                  columns=pd.Index(['Accuracy'], name='Parameters'))\n",
    "    print(df1)\n",
    "    plt.plot(df1.index,\"Accuracy\",label=\"Accuracy\", data=df1, marker='o')\n",
    "    plt.ylim (0,1)\n",
    "    plt.legend()\n",
    "    plt.xlabel(\"Max Depth\")\n",
    "    plt.ylabel(\"Score\")\n",
    "    plt.title (title)\n",
    "    plt.show()\n",
    "    plt.close()"
   ]
  },
  {
   "cell_type": "code",
   "execution_count": 983,
   "metadata": {},
   "outputs": [],
   "source": [
    "#decisionTree_maxDepth_plot(\"Hear Disease Test Plot of Max Depth of Decision Tree\",train_data, train_lable, test_data, test_lable)\n",
    "#decisionTree_maxDepth_plot(\"Breast Cancer Test Plot of Max Depth of Decision Tree\",breast_cancer_train, breast_cancer_lable_train, breast_cancer_test, breast_cancer_lable_test)"
   ]
  },
  {
   "cell_type": "code",
   "execution_count": 985,
   "metadata": {},
   "outputs": [],
   "source": [
    "#decisionTree_minSamplesSplit_plot()"
   ]
  },
  {
   "cell_type": "code",
   "execution_count": 989,
   "metadata": {},
   "outputs": [],
   "source": [
    "def random_forrest_gridSearch (train_data,train_lable):\n",
    "    clf =RandomForestClassifier()\n",
    "    \n",
    "    \n",
    "    \n",
    "    param_grid = {'n_estimators': [10, 50, 100, 200, 400],\n",
    "               'max_features':  ['auto', 'sqrt'], 'max_depth': [1,5,10, 20],\n",
    "               'min_samples_split': [2, 5, 10],\n",
    "               'min_samples_leaf': [1, 2, 4],\n",
    "               'bootstrap': [True, False]}\n",
    "    \n",
    "    # define evaluation\n",
    "    #cv = RepeatedStratifiedKFold(n_splits=60, n_repeats=3, random_state=1)\n",
    "    # define the search\n",
    "    grid = GridSearchCV(clf,param_grid,refit=True,verbose=2)\n",
    "    grid.fit(train_data, train_lable)\n",
    "    \n",
    "    \n",
    "    return grid.best_params_\n",
    "    "
   ]
  },
  {
   "cell_type": "markdown",
   "metadata": {},
   "source": [
    " "
   ]
  },
  {
   "cell_type": "code",
   "execution_count": 990,
   "metadata": {},
   "outputs": [],
   "source": [
    "#print (random_forrest_gridSearch (train_data,train_lable))"
   ]
  },
  {
   "cell_type": "code",
   "execution_count": 991,
   "metadata": {},
   "outputs": [],
   "source": [
    "def random_forrest_learning_curve(title,X,y):\n",
    "    fig, axes = plt.subplots(2, 2, figsize=(10, 15))\n",
    "\n",
    "\n",
    "    parameter=random_forrest_gridSearch (X,y)\n",
    "    # Cross validation with 100 iterations to get smoother mean test and train\n",
    "    # score curves, each time with 20% data randomly selected as a validation set.\n",
    "    cv = ShuffleSplit(n_splits=100, test_size=0.2, random_state=0)\n",
    "\n",
    "    estimator =RandomForestClassifier(n_estimators=parameter[\"n_estimators\"],\n",
    "               max_features=parameter ['max_features'], max_depth=parameter [\"max_depth\"],\n",
    "               min_samples_split=parameter ['min_samples_split'],\n",
    "               min_samples_leaf=parameter ['min_samples_leaf'],\n",
    "               bootstrap=parameter ['bootstrap'])\n",
    "    plot_learning_curve(estimator, title, X, y, axes=axes[:, 0], ylim=(0.7, 1.01),\n",
    "                    cv=cv, n_jobs=4)\n",
    "\n",
    "\n",
    "    plt.show()\n",
    "    plt.close()"
   ]
  },
  {
   "cell_type": "code",
   "execution_count": 992,
   "metadata": {},
   "outputs": [],
   "source": [
    "#random_forrest_learning_curve (\"Random Forrest Learning Curve for Heart Disease\",train_data, train_lable)"
   ]
  },
  {
   "cell_type": "code",
   "execution_count": 993,
   "metadata": {},
   "outputs": [],
   "source": [
    "def random_forrest_validation_curve(title,X,y):\n",
    "    \n",
    "    parameter=random_forrest_gridSearch (X,y)\n",
    "    cv = ShuffleSplit(n_splits=100, test_size=0.2, random_state=0)\n",
    "\n",
    "    estimator =RandomForestClassifier(max_features=parameter ['max_features'], max_depth=parameter [\"max_depth\"],\n",
    "               min_samples_split=parameter ['min_samples_split'],\n",
    "               min_samples_leaf=parameter ['min_samples_leaf'],\n",
    "               bootstrap=parameter ['bootstrap'])\n",
    "\n",
    "    \n",
    "    validationCurve(estimator, title, X, y, 'n_estimators', range(1,30,3))"
   ]
  },
  {
   "cell_type": "code",
   "execution_count": 994,
   "metadata": {},
   "outputs": [],
   "source": [
    "#random_forrest_validation_curve (\"Random Forrest Learning Curve for Heart Disease\",train_data, train_lable)"
   ]
  },
  {
   "cell_type": "code",
   "execution_count": 995,
   "metadata": {},
   "outputs": [],
   "source": [
    "def neural_network_gridSearch (train_data,train_lable):\n",
    "    parameters = {'solver': ['lbfgs','sgd', 'adam'], 'max_iter': [1000,2000,3000,4000,5000,6000,7000,8000,9000,10000], 'alpha': 10.0 ** -np.arange(1, 10), 'hidden_layer_sizes':np.arange(5, 20), 'random_state':[0,1,2,3,4,5,6,7,8,9],  'activation': ['tanh', 'relu'],}\n",
    "    clf = GridSearchCV(MLPClassifier(), parameters, n_jobs=-1)\n",
    "    \n",
    "    \n",
    "    \n",
    "    \n",
    "    clf = clf.fit(train_data, train_lable)\n",
    "    #prediction=clf.predict(test_data)\n",
    "    #a=accuracy(prediction, test_lable)\n",
    "    #fp=false_positive (prediction, test_lable)\n",
    "    #heart {'activation': 'relu', 'alpha': 1e-06, 'hidden_layer_sizes': 11, 'max_iter': 1700, 'random_state': 1, 'solver': 'adam'}\n",
    "   #{'activation': 'tanh', 'alpha': 0.1, 'hidden_layer_sizes': 31, 'max_iter': 1000, 'random_state': 7, 'solver': 'lbfgs'}\n",
    "    return clf.best_params_"
   ]
  },
  {
   "cell_type": "code",
   "execution_count": 996,
   "metadata": {},
   "outputs": [],
   "source": [
    "def neural_network_validation_curve(title,X,y):\n",
    "    \n",
    "    \n",
    "\n",
    "    estimator =MLPClassifier(activation='tanh', alpha=0.1, max_iter=10000, random_state=7, solver=\"sgd\")\n",
    "    validationCurve(estimator, title, X, y, \"hidden_layer_sizes\", range(1,20))\n"
   ]
  },
  {
   "cell_type": "code",
   "execution_count": 997,
   "metadata": {},
   "outputs": [
    {
     "data": {
      "image/png": "[encoded data removed]",
      "text/plain": [
       "<Figure size 432x288 with 1 Axes>"
      ]
     },
     "metadata": {
      "needs_background": "light"
     },
     "output_type": "display_data"
    }
   ],
   "source": [
    "#print (neural_network_gridSearch (breast_cancer_train, breast_cancer_lable_train))\n",
    "#neural_network_validation_curve(\"Neural Network Validation Curve for Heart Disease\", train_data, train_lable)\n",
    "neural_network_validation_curve(\"Neural Network Validation Curve for Breast Cancer\", breast_cancer_train, breast_cancer_lable_train)"
   ]
  },
  {
   "cell_type": "code",
   "execution_count": 831,
   "metadata": {},
   "outputs": [],
   "source": [
    "def neural_network_test(title,train_data, train_lable, test_data, test_lable):\n",
    "    Acc=[]\n",
    "    FP=[]\n",
    "    FN=[]\n",
    "    \n",
    "    \n",
    "    for each in range(1,20):\n",
    "        clf =MLPClassifier(activation='tanh', alpha=0.1, max_iter=10000, random_state=7, solver=\"sgd\",hidden_layer_sizes=each)\n",
    "        clf = clf.fit(train_data, train_lable)\n",
    "        score=clf.score(test_data, test_lable)\n",
    "        Acc.append(score)\n",
    "        \n",
    "    raw_data = {'Accuracy': Acc}\n",
    "\n",
    "    df1 = pd.DataFrame(raw_data,\n",
    "                  index=pd.Index(range(1,20), name='Parameters Name'),\n",
    "                  columns=pd.Index(['Accuracy'], name='Parameters'))\n",
    "    print(df1)\n",
    "    plt.plot(df1.index,\"Accuracy\",label=\"Accuracy\", data=df1, marker='o')\n",
    "    plt.ylim (0,1)\n",
    "    plt.legend()\n",
    "    plt.xlabel(\"Hidden Layers\")\n",
    "    plt.ylabel(\"Score\")\n",
    "    plt.title (title)\n",
    "    plt.show()\n",
    "    plt.close()"
   ]
  },
  {
   "cell_type": "code",
   "execution_count": 832,
   "metadata": {
    "scrolled": true
   },
   "outputs": [
    {
     "name": "stdout",
     "output_type": "stream",
     "text": [
      "Parameters       Accuracy\n",
      "Parameters Name          \n",
      "1                0.529126\n",
      "2                0.529126\n",
      "3                0.529126\n",
      "4                0.529126\n",
      "5                0.529126\n",
      "6                0.529126\n",
      "7                0.805825\n",
      "8                0.781553\n",
      "9                0.733010\n",
      "10               0.747573\n",
      "11               0.805825\n",
      "12               0.800971\n",
      "13               0.776699\n",
      "14               0.781553\n",
      "15               0.825243\n",
      "16               0.805825\n",
      "17               0.810680\n",
      "18               0.820388\n",
      "19               0.800971\n"
     ]
    },
    {
     "data": {
      "image/png": "[encoded data removed]",
      "text/plain": [
       "<Figure size 432x288 with 1 Axes>"
      ]
     },
     "metadata": {
      "needs_background": "light"
     },
     "output_type": "display_data"
    }
   ],
   "source": [
    "neural_network_test(\"Hear Disease Test Plot of Hidden Layers of NN \",train_data, train_lable, test_data, test_lable)\n",
    "#neural_network_test(\"Breast Cancer Test Plot of Hidden Layers of NN \", breast_cancer_train, breast_cancer_lable_train, breast_cancer_test, breast_cancer_lable_test)"
   ]
  },
  {
   "cell_type": "code",
   "execution_count": 648,
   "metadata": {},
   "outputs": [],
   "source": [
    "def neural_network_learning_curve(title,X,y):\n",
    "    fig, axes = plt.subplots(2, 2, figsize=(10, 15))\n",
    "\n",
    "\n",
    "   # parameter=decision_tree_gridSearch (X,y)\n",
    "    # Cross validation with 100 iterations to get smoother mean test and train\n",
    "    # score curves, each time with 20% data randomly selected as a validation set.\n",
    "    cv = ShuffleSplit(n_splits=100, test_size=0.2, random_state=0)\n",
    "\n",
    "    estimator  =MLPClassifier(activation='tanh', alpha=0.1, max_iter=10000, random_state=7,hidden_layer_sizes=5, solver=\"sgd\")\n",
    "    plot_learning_curve(estimator, title, X, y, axes=axes[:, 0], ylim=(0.7, 1.01),\n",
    "                    cv=cv, n_jobs=4)\n",
    "\n",
    "\n",
    "    plt.show()\n",
    "    plt.close()"
   ]
  },
  {
   "cell_type": "code",
   "execution_count": 649,
   "metadata": {},
   "outputs": [],
   "source": [
    "#neural_network_learning_curve(\"Neural Network Learning Curve for Breast Cancer\", breast_cancer_train, breast_cancer_lable_train)"
   ]
  },
  {
   "cell_type": "code",
   "execution_count": 650,
   "metadata": {},
   "outputs": [],
   "source": [
    "def knn_gridSearch(train_data,train_lable):\n",
    "    \n",
    "    parameters = {'n_neighbors':[4,5,6,7], 'leaf_size':[1,3,5], 'algorithm':['auto', 'kd_tree'],'n_jobs':[-1]}\n",
    "    \n",
    "    grid = GridSearchCV(KNeighborsClassifier(),parameters,refit=True,verbose=2)\n",
    "    grid.fit(train_data, train_lable)\n",
    "    return grid.best_params_"
   ]
  },
  {
   "cell_type": "code",
   "execution_count": 651,
   "metadata": {},
   "outputs": [],
   "source": [
    "#print (knn_gridSearch (train_data,train_lable))\n",
    "    "
   ]
  },
  {
   "cell_type": "code",
   "execution_count": 652,
   "metadata": {},
   "outputs": [],
   "source": [
    "def knn_validation_curve(title,X,y):\n",
    "    \n",
    "    parameter=knn_gridSearch (X,y)\n",
    "    \n",
    "\n",
    "    estimator =KNeighborsClassifier(algorithm='auto', leaf_size=1, n_jobs=-1)\n",
    "    validationCurve(estimator, title, X, y, \"n_neighbors\", range(1,10))"
   ]
  },
  {
   "cell_type": "code",
   "execution_count": 653,
   "metadata": {},
   "outputs": [],
   "source": [
    "#knn_validation_curve (\"knn Validation Curve for Breast Cancer\", breast_cancer_train, breast_cancer_lable_train)\n",
    "#knn_validation_curve (\"knn Validation Curve for Heart Disease\", train_data, train_lable)"
   ]
  },
  {
   "cell_type": "code",
   "execution_count": 654,
   "metadata": {},
   "outputs": [],
   "source": [
    "def knn_learning_curve(title,X,y):\n",
    "    fig, axes = plt.subplots(2, 2, figsize=(10, 15))\n",
    "\n",
    "\n",
    "    parameter=knn_gridSearch (X,y)\n",
    "    # Cross validation with 100 iterations to get smoother mean test and train\n",
    "    # score curves, each time with 20% data randomly selected as a validation set.\n",
    "    cv = ShuffleSplit(n_splits=100, test_size=0.2, random_state=0)\n",
    "\n",
    "    estimator =KNeighborsClassifier(algorithm=parameter['algorithm'], leaf_size=parameter['leaf_size'], n_jobs=parameter['n_jobs'],n_neighbors= parameter['n_neighbors']) \n",
    "    plot_learning_curve(estimator, title, X, y, axes=axes[:, 0], ylim=(0.7, 1.01), cv=cv, n_jobs=4)\n",
    "\n",
    "\n",
    "    plt.show()\n",
    "    plt.close()"
   ]
  },
  {
   "cell_type": "code",
   "execution_count": 655,
   "metadata": {},
   "outputs": [],
   "source": [
    "#knn_learning_curve (\"KNN Learning Curve for Breast Cancer\",breast_cancer_train, breast_cancer_lable_train)"
   ]
  },
  {
   "cell_type": "code",
   "execution_count": 656,
   "metadata": {},
   "outputs": [],
   "source": [
    "def knn_knumber_test_plot(title,train_data, train_lable, test_data, test_lable):\n",
    "    Acc=[]\n",
    "    FP=[]\n",
    "    FN=[]\n",
    "    \n",
    "    parameter=knn_gridSearch (train_data, train_lable)\n",
    "    for each in range(1,10):\n",
    "        clf =KNeighborsClassifier(leaf_size=parameter[\"leaf_size\"], algorithm=parameter[\"algorithm\"],n_jobs=parameter[\"n_jobs\"], n_neighbors=each)\n",
    "        clf = clf.fit(train_data, train_lable)\n",
    "        score=clf.score(test_data, test_lable)\n",
    "        Acc.append(score)\n",
    "        \n",
    "    raw_data = {'Accuracy': Acc}\n",
    "\n",
    "    df1 = pd.DataFrame(raw_data,\n",
    "                  index=pd.Index(range(1,10), name='Parameters Name'),\n",
    "                  columns=pd.Index(['Accuracy'], name='Parameters'))\n",
    "    print(df1)\n",
    "    plt.plot(df1.index,\"Accuracy\",label=\"Accuracy\", data=df1, marker='o')\n",
    "    plt.ylim (0,1)\n",
    "    plt.legend()\n",
    "    plt.xlabel(\"Number of Neighbors\")\n",
    "    plt.ylabel(\"Score\")\n",
    "    plt.title (title)\n",
    "    plt.show()\n",
    "    plt.close()"
   ]
  },
  {
   "cell_type": "code",
   "execution_count": 657,
   "metadata": {},
   "outputs": [
    {
     "name": "stdout",
     "output_type": "stream",
     "text": [
      "Fitting 5 folds for each of 24 candidates, totalling 120 fits\n",
      "[CV] END algorithm=auto, leaf_size=1, n_jobs=-1, n_neighbors=4; total time=   0.0s\n",
      "[CV] END algorithm=auto, leaf_size=1, n_jobs=-1, n_neighbors=4; total time=   0.0s\n",
      "[CV] END algorithm=auto, leaf_size=1, n_jobs=-1, n_neighbors=4; total time=   0.0s\n",
      "[CV] END algorithm=auto, leaf_size=1, n_jobs=-1, n_neighbors=4; total time=   0.0s\n",
      "[CV] END algorithm=auto, leaf_size=1, n_jobs=-1, n_neighbors=4; total time=   0.0s\n",
      "[CV] END algorithm=auto, leaf_size=1, n_jobs=-1, n_neighbors=5; total time=   0.0s\n",
      "[CV] END algorithm=auto, leaf_size=1, n_jobs=-1, n_neighbors=5; total time=   0.0s\n",
      "[CV] END algorithm=auto, leaf_size=1, n_jobs=-1, n_neighbors=5; total time=   0.0s\n",
      "[CV] END algorithm=auto, leaf_size=1, n_jobs=-1, n_neighbors=5; total time=   0.0s\n",
      "[CV] END algorithm=auto, leaf_size=1, n_jobs=-1, n_neighbors=5; total time=   0.0s\n",
      "[CV] END algorithm=auto, leaf_size=1, n_jobs=-1, n_neighbors=6; total time=   0.0s\n",
      "[CV] END algorithm=auto, leaf_size=1, n_jobs=-1, n_neighbors=6; total time=   0.0s\n",
      "[CV] END algorithm=auto, leaf_size=1, n_jobs=-1, n_neighbors=6; total time=   0.0s\n",
      "[CV] END algorithm=auto, leaf_size=1, n_jobs=-1, n_neighbors=6; total time=   0.0s\n",
      "[CV] END algorithm=auto, leaf_size=1, n_jobs=-1, n_neighbors=6; total time=   0.0s\n",
      "[CV] END algorithm=auto, leaf_size=1, n_jobs=-1, n_neighbors=7; total time=   0.0s\n",
      "[CV] END algorithm=auto, leaf_size=1, n_jobs=-1, n_neighbors=7; total time=   0.0s\n",
      "[CV] END algorithm=auto, leaf_size=1, n_jobs=-1, n_neighbors=7; total time=   0.0s\n",
      "[CV] END algorithm=auto, leaf_size=1, n_jobs=-1, n_neighbors=7; total time=   0.0s\n",
      "[CV] END algorithm=auto, leaf_size=1, n_jobs=-1, n_neighbors=7; total time=   0.0s\n",
      "[CV] END algorithm=auto, leaf_size=3, n_jobs=-1, n_neighbors=4; total time=   0.0s\n",
      "[CV] END algorithm=auto, leaf_size=3, n_jobs=-1, n_neighbors=4; total time=   0.0s\n",
      "[CV] END algorithm=auto, leaf_size=3, n_jobs=-1, n_neighbors=4; total time=   0.0s\n",
      "[CV] END algorithm=auto, leaf_size=3, n_jobs=-1, n_neighbors=4; total time=   0.0s\n",
      "[CV] END algorithm=auto, leaf_size=3, n_jobs=-1, n_neighbors=4; total time=   0.0s\n",
      "[CV] END algorithm=auto, leaf_size=3, n_jobs=-1, n_neighbors=5; total time=   0.0s\n",
      "[CV] END algorithm=auto, leaf_size=3, n_jobs=-1, n_neighbors=5; total time=   0.0s\n",
      "[CV] END algorithm=auto, leaf_size=3, n_jobs=-1, n_neighbors=5; total time=   0.0s\n",
      "[CV] END algorithm=auto, leaf_size=3, n_jobs=-1, n_neighbors=5; total time=   0.0s\n",
      "[CV] END algorithm=auto, leaf_size=3, n_jobs=-1, n_neighbors=5; total time=   0.0s\n",
      "[CV] END algorithm=auto, leaf_size=3, n_jobs=-1, n_neighbors=6; total time=   0.0s\n",
      "[CV] END algorithm=auto, leaf_size=3, n_jobs=-1, n_neighbors=6; total time=   0.0s\n",
      "[CV] END algorithm=auto, leaf_size=3, n_jobs=-1, n_neighbors=6; total time=   0.0s\n",
      "[CV] END algorithm=auto, leaf_size=3, n_jobs=-1, n_neighbors=6; total time=   0.0s\n",
      "[CV] END algorithm=auto, leaf_size=3, n_jobs=-1, n_neighbors=6; total time=   0.0s\n",
      "[CV] END algorithm=auto, leaf_size=3, n_jobs=-1, n_neighbors=7; total time=   0.0s\n",
      "[CV] END algorithm=auto, leaf_size=3, n_jobs=-1, n_neighbors=7; total time=   0.0s\n",
      "[CV] END algorithm=auto, leaf_size=3, n_jobs=-1, n_neighbors=7; total time=   0.0s\n",
      "[CV] END algorithm=auto, leaf_size=3, n_jobs=-1, n_neighbors=7; total time=   0.0s\n",
      "[CV] END algorithm=auto, leaf_size=3, n_jobs=-1, n_neighbors=7; total time=   0.0s\n",
      "[CV] END algorithm=auto, leaf_size=5, n_jobs=-1, n_neighbors=4; total time=   0.0s\n",
      "[CV] END algorithm=auto, leaf_size=5, n_jobs=-1, n_neighbors=4; total time=   0.0s\n",
      "[CV] END algorithm=auto, leaf_size=5, n_jobs=-1, n_neighbors=4; total time=   0.0s\n",
      "[CV] END algorithm=auto, leaf_size=5, n_jobs=-1, n_neighbors=4; total time=   0.0s\n",
      "[CV] END algorithm=auto, leaf_size=5, n_jobs=-1, n_neighbors=4; total time=   0.0s\n",
      "[CV] END algorithm=auto, leaf_size=5, n_jobs=-1, n_neighbors=5; total time=   0.0s\n",
      "[CV] END algorithm=auto, leaf_size=5, n_jobs=-1, n_neighbors=5; total time=   0.0s\n",
      "[CV] END algorithm=auto, leaf_size=5, n_jobs=-1, n_neighbors=5; total time=   0.0s\n",
      "[CV] END algorithm=auto, leaf_size=5, n_jobs=-1, n_neighbors=5; total time=   0.0s\n",
      "[CV] END algorithm=auto, leaf_size=5, n_jobs=-1, n_neighbors=5; total time=   0.0s\n",
      "[CV] END algorithm=auto, leaf_size=5, n_jobs=-1, n_neighbors=6; total time=   0.0s\n",
      "[CV] END algorithm=auto, leaf_size=5, n_jobs=-1, n_neighbors=6; total time=   0.0s\n",
      "[CV] END algorithm=auto, leaf_size=5, n_jobs=-1, n_neighbors=6; total time=   0.0s\n",
      "[CV] END algorithm=auto, leaf_size=5, n_jobs=-1, n_neighbors=6; total time=   0.0s\n",
      "[CV] END algorithm=auto, leaf_size=5, n_jobs=-1, n_neighbors=6; total time=   0.0s\n",
      "[CV] END algorithm=auto, leaf_size=5, n_jobs=-1, n_neighbors=7; total time=   0.0s\n",
      "[CV] END algorithm=auto, leaf_size=5, n_jobs=-1, n_neighbors=7; total time=   0.0s\n",
      "[CV] END algorithm=auto, leaf_size=5, n_jobs=-1, n_neighbors=7; total time=   0.0s\n",
      "[CV] END algorithm=auto, leaf_size=5, n_jobs=-1, n_neighbors=7; total time=   0.0s\n",
      "[CV] END algorithm=auto, leaf_size=5, n_jobs=-1, n_neighbors=7; total time=   0.0s\n",
      "[CV] END algorithm=kd_tree, leaf_size=1, n_jobs=-1, n_neighbors=4; total time=   0.0s\n",
      "[CV] END algorithm=kd_tree, leaf_size=1, n_jobs=-1, n_neighbors=4; total time=   0.0s\n",
      "[CV] END algorithm=kd_tree, leaf_size=1, n_jobs=-1, n_neighbors=4; total time=   0.0s\n",
      "[CV] END algorithm=kd_tree, leaf_size=1, n_jobs=-1, n_neighbors=4; total time=   0.0s\n",
      "[CV] END algorithm=kd_tree, leaf_size=1, n_jobs=-1, n_neighbors=4; total time=   0.0s\n",
      "[CV] END algorithm=kd_tree, leaf_size=1, n_jobs=-1, n_neighbors=5; total time=   0.0s\n",
      "[CV] END algorithm=kd_tree, leaf_size=1, n_jobs=-1, n_neighbors=5; total time=   0.0s\n",
      "[CV] END algorithm=kd_tree, leaf_size=1, n_jobs=-1, n_neighbors=5; total time=   0.0s\n",
      "[CV] END algorithm=kd_tree, leaf_size=1, n_jobs=-1, n_neighbors=5; total time=   0.0s\n",
      "[CV] END algorithm=kd_tree, leaf_size=1, n_jobs=-1, n_neighbors=5; total time=   0.0s\n",
      "[CV] END algorithm=kd_tree, leaf_size=1, n_jobs=-1, n_neighbors=6; total time=   0.0s\n",
      "[CV] END algorithm=kd_tree, leaf_size=1, n_jobs=-1, n_neighbors=6; total time=   0.0s\n",
      "[CV] END algorithm=kd_tree, leaf_size=1, n_jobs=-1, n_neighbors=6; total time=   0.0s\n",
      "[CV] END algorithm=kd_tree, leaf_size=1, n_jobs=-1, n_neighbors=6; total time=   0.0s\n",
      "[CV] END algorithm=kd_tree, leaf_size=1, n_jobs=-1, n_neighbors=6; total time=   0.0s\n",
      "[CV] END algorithm=kd_tree, leaf_size=1, n_jobs=-1, n_neighbors=7; total time=   0.0s\n",
      "[CV] END algorithm=kd_tree, leaf_size=1, n_jobs=-1, n_neighbors=7; total time=   0.0s\n",
      "[CV] END algorithm=kd_tree, leaf_size=1, n_jobs=-1, n_neighbors=7; total time=   0.0s\n",
      "[CV] END algorithm=kd_tree, leaf_size=1, n_jobs=-1, n_neighbors=7; total time=   0.0s\n",
      "[CV] END algorithm=kd_tree, leaf_size=1, n_jobs=-1, n_neighbors=7; total time=   0.0s\n",
      "[CV] END algorithm=kd_tree, leaf_size=3, n_jobs=-1, n_neighbors=4; total time=   0.0s\n",
      "[CV] END algorithm=kd_tree, leaf_size=3, n_jobs=-1, n_neighbors=4; total time=   0.0s\n",
      "[CV] END algorithm=kd_tree, leaf_size=3, n_jobs=-1, n_neighbors=4; total time=   0.0s\n",
      "[CV] END algorithm=kd_tree, leaf_size=3, n_jobs=-1, n_neighbors=4; total time=   0.0s\n",
      "[CV] END algorithm=kd_tree, leaf_size=3, n_jobs=-1, n_neighbors=4; total time=   0.0s\n",
      "[CV] END algorithm=kd_tree, leaf_size=3, n_jobs=-1, n_neighbors=5; total time=   0.0s\n",
      "[CV] END algorithm=kd_tree, leaf_size=3, n_jobs=-1, n_neighbors=5; total time=   0.0s\n",
      "[CV] END algorithm=kd_tree, leaf_size=3, n_jobs=-1, n_neighbors=5; total time=   0.0s\n",
      "[CV] END algorithm=kd_tree, leaf_size=3, n_jobs=-1, n_neighbors=5; total time=   0.0s\n",
      "[CV] END algorithm=kd_tree, leaf_size=3, n_jobs=-1, n_neighbors=5; total time=   0.0s\n",
      "[CV] END algorithm=kd_tree, leaf_size=3, n_jobs=-1, n_neighbors=6; total time=   0.0s\n",
      "[CV] END algorithm=kd_tree, leaf_size=3, n_jobs=-1, n_neighbors=6; total time=   0.0s\n",
      "[CV] END algorithm=kd_tree, leaf_size=3, n_jobs=-1, n_neighbors=6; total time=   0.0s\n",
      "[CV] END algorithm=kd_tree, leaf_size=3, n_jobs=-1, n_neighbors=6; total time=   0.0s\n",
      "[CV] END algorithm=kd_tree, leaf_size=3, n_jobs=-1, n_neighbors=6; total time=   0.0s\n",
      "[CV] END algorithm=kd_tree, leaf_size=3, n_jobs=-1, n_neighbors=7; total time=   0.0s\n",
      "[CV] END algorithm=kd_tree, leaf_size=3, n_jobs=-1, n_neighbors=7; total time=   0.0s\n",
      "[CV] END algorithm=kd_tree, leaf_size=3, n_jobs=-1, n_neighbors=7; total time=   0.0s\n",
      "[CV] END algorithm=kd_tree, leaf_size=3, n_jobs=-1, n_neighbors=7; total time=   0.0s\n",
      "[CV] END algorithm=kd_tree, leaf_size=3, n_jobs=-1, n_neighbors=7; total time=   0.0s\n",
      "[CV] END algorithm=kd_tree, leaf_size=5, n_jobs=-1, n_neighbors=4; total time=   0.0s\n",
      "[CV] END algorithm=kd_tree, leaf_size=5, n_jobs=-1, n_neighbors=4; total time=   0.0s\n",
      "[CV] END algorithm=kd_tree, leaf_size=5, n_jobs=-1, n_neighbors=4; total time=   0.0s\n",
      "[CV] END algorithm=kd_tree, leaf_size=5, n_jobs=-1, n_neighbors=4; total time=   0.0s\n"
     ]
    },
    {
     "name": "stdout",
     "output_type": "stream",
     "text": [
      "[CV] END algorithm=kd_tree, leaf_size=5, n_jobs=-1, n_neighbors=4; total time=   0.0s\n",
      "[CV] END algorithm=kd_tree, leaf_size=5, n_jobs=-1, n_neighbors=5; total time=   0.0s\n",
      "[CV] END algorithm=kd_tree, leaf_size=5, n_jobs=-1, n_neighbors=5; total time=   0.0s\n",
      "[CV] END algorithm=kd_tree, leaf_size=5, n_jobs=-1, n_neighbors=5; total time=   0.0s\n",
      "[CV] END algorithm=kd_tree, leaf_size=5, n_jobs=-1, n_neighbors=5; total time=   0.0s\n",
      "[CV] END algorithm=kd_tree, leaf_size=5, n_jobs=-1, n_neighbors=5; total time=   0.0s\n",
      "[CV] END algorithm=kd_tree, leaf_size=5, n_jobs=-1, n_neighbors=6; total time=   0.0s\n",
      "[CV] END algorithm=kd_tree, leaf_size=5, n_jobs=-1, n_neighbors=6; total time=   0.0s\n",
      "[CV] END algorithm=kd_tree, leaf_size=5, n_jobs=-1, n_neighbors=6; total time=   0.0s\n",
      "[CV] END algorithm=kd_tree, leaf_size=5, n_jobs=-1, n_neighbors=6; total time=   0.0s\n",
      "[CV] END algorithm=kd_tree, leaf_size=5, n_jobs=-1, n_neighbors=6; total time=   0.0s\n",
      "[CV] END algorithm=kd_tree, leaf_size=5, n_jobs=-1, n_neighbors=7; total time=   0.0s\n",
      "[CV] END algorithm=kd_tree, leaf_size=5, n_jobs=-1, n_neighbors=7; total time=   0.0s\n",
      "[CV] END algorithm=kd_tree, leaf_size=5, n_jobs=-1, n_neighbors=7; total time=   0.0s\n",
      "[CV] END algorithm=kd_tree, leaf_size=5, n_jobs=-1, n_neighbors=7; total time=   0.0s\n",
      "[CV] END algorithm=kd_tree, leaf_size=5, n_jobs=-1, n_neighbors=7; total time=   0.0s\n",
      "Parameters       Accuracy\n",
      "Parameters Name          \n",
      "1                0.873786\n",
      "2                0.791262\n",
      "3                0.820388\n",
      "4                0.781553\n",
      "5                0.805825\n",
      "6                0.771845\n",
      "7                0.781553\n",
      "8                0.771845\n",
      "9                0.781553\n"
     ]
    },
    {
     "data": {
      "image/png": "[encoded data removed]",
      "text/plain": [
       "<Figure size 432x288 with 1 Axes>"
      ]
     },
     "metadata": {
      "needs_background": "light"
     },
     "output_type": "display_data"
    }
   ],
   "source": [
    "knn_knumber_test_plot(\"Hear Disease Test Plot of Kernel of KNN \",train_data, train_lable, test_data, test_lable)\n",
    "#knn_knumber_test_plot(\"Breast Cancer Test Plot of Kernel of KNN \", breast_cancer_train, breast_cancer_lable_train, breast_cancer_test, breast_cancer_lable_test)"
   ]
  },
  {
   "cell_type": "code",
   "execution_count": 345,
   "metadata": {},
   "outputs": [],
   "source": [
    "def SVM_gridSearch (train_data,train_lable):\n",
    "    param_grid = {'C': [0.1,1, 10, 100], 'gamma': [1,0.1,0.01,0.001],'kernel': ['rbf', 'poly', 'sigmoid']}\n",
    "    \n",
    "    # define evaluation\n",
    "    #cv = RepeatedStratifiedKFold(n_splits=60, n_repeats=3, random_state=1)\n",
    "    # define the search\n",
    "    grid = GridSearchCV(SVC(),param_grid,refit=True,verbose=2)\n",
    "    grid.fit(train_data, train_lable)\n",
    "    \n",
    "    \n",
    "    return grid.best_params_"
   ]
  },
  {
   "cell_type": "code",
   "execution_count": 346,
   "metadata": {},
   "outputs": [],
   "source": [
    "#print (SVM_gridSearch(breast_cancer_train, breast_cancer_lable_train))"
   ]
  },
  {
   "cell_type": "code",
   "execution_count": 347,
   "metadata": {},
   "outputs": [],
   "source": [
    "def SVM_validation_curve(title,X,y):\n",
    "    \n",
    "    parameter=SVM_gridSearch (X,y)\n",
    "    \n",
    "\n",
    "    estimator =SVC(C=parameter[\"C\"], gamma=parameter[\"gamma\"])\n",
    "    validationCurve(estimator, title, X, y, \"kernel\", ['rbf', 'poly', 'sigmoid'])"
   ]
  },
  {
   "cell_type": "code",
   "execution_count": 348,
   "metadata": {},
   "outputs": [],
   "source": [
    "#SVM_validation_curve (\"SVM Validation Curve for Breast Cancer\", breast_cancer_train, breast_cancer_lable_train)"
   ]
  },
  {
   "cell_type": "code",
   "execution_count": 349,
   "metadata": {},
   "outputs": [],
   "source": [
    "def SVM_learning_curve(title,X,y):\n",
    "    fig, axes = plt.subplots(2, 2, figsize=(10, 15))\n",
    "\n",
    "\n",
    "    parameter=SVM_gridSearch (X,y)\n",
    "    # Cross validation with 100 iterations to get smoother mean test and train\n",
    "    # score curves, each time with 20% data randomly selected as a validation set.\n",
    "    cv = ShuffleSplit(n_splits=100, test_size=0.2, random_state=0)\n",
    "\n",
    "    estimator =SVC(C=parameter[\"C\"], gamma=parameter[\"gamma\"], kernel=parameter[\"kernel\"])\n",
    "    plot_learning_curve(estimator, title, X, y, axes=axes[:, 0], ylim=(0.7, 1.01),\n",
    "                    cv=cv, n_jobs=4)\n",
    "\n",
    "\n",
    "    plt.show()\n",
    "    plt.close()"
   ]
  },
  {
   "cell_type": "code",
   "execution_count": null,
   "metadata": {},
   "outputs": [],
   "source": []
  },
  {
   "cell_type": "code",
   "execution_count": 350,
   "metadata": {},
   "outputs": [],
   "source": [
    "def SVM_C_plot():\n",
    "    Acc=[]\n",
    "    FP=[]\n",
    "    FN=[]\n",
    "    for each in [01.,1,10,100]:\n",
    "        clf =SVC(C=each, gamma=0.001, kernel=\"rbf\")\n",
    "        clf = clf.fit(train_data, train_lable)\n",
    "        prediction=clf.predict(test_data)\n",
    "        Acc.append(accuracy(prediction, test_lable))\n",
    "        FP.append(false_positive (prediction, test_lable))\n",
    "        FN.append(false_negative (prediction, test_lable))\n",
    "    raw_data = {\n",
    "            'Accuracy': Acc, 'False Positive':FP, 'False Negative': FN \n",
    "            \n",
    "            }\n",
    "\n",
    "    df1 = pd.DataFrame(raw_data,\n",
    "                  index=pd.Index(['0.1', '1', '10', '100'], name='Parameters Name'),\n",
    "                  columns=pd.Index(['Accuracy', 'False Positive', 'False Negative'], name='Parameters'))\n",
    "\n",
    "    plt.plot(df1.index,\"Accuracy\",label=\"Accuracy\", data=df1, marker='o')\n",
    "\n",
    "    plt.plot(df1.index,\"False Positive\",label=\"False positive\", data=df1, marker='o')\n",
    "    plt.plot(df1.index,\"False Negative\", label=\"False Negative\", data=df1, marker='o')\n",
    "    plt.legend()\n",
    "    plt.xlabel(\"C\")\n",
    "    plt.ylabel(\"Number\")\n",
    "    plt.title (\"SVM C Plot\")\n",
    "    plt.show()\n",
    "    plt.close()"
   ]
  },
  {
   "cell_type": "code",
   "execution_count": 351,
   "metadata": {},
   "outputs": [],
   "source": [
    "#SVM_learning_curve(\"SVM Learning Curve for Breast Cancer\",breast_cancer_train, breast_cancer_lable_train)\n",
    "#SVM_learning_curve(\"SVM Learning Curve for Heart Disease\",train_data, train_lable)"
   ]
  },
  {
   "cell_type": "code",
   "execution_count": 352,
   "metadata": {},
   "outputs": [],
   "source": [
    "#SVM_C_plot()"
   ]
  },
  {
   "cell_type": "code",
   "execution_count": 353,
   "metadata": {},
   "outputs": [],
   "source": [
    "def SVM_gamma_plot():\n",
    "    Acc=[]\n",
    "    FP=[]\n",
    "    FN=[]\n",
    "    for each in [1,0.1,0.01,0.001]:\n",
    "        clf =SVC(C=100, gamma=each, kernel=\"rbf\")\n",
    "        clf = clf.fit(train_data, train_lable)\n",
    "        prediction=clf.predict(test_data)\n",
    "        Acc.append(accuracy(prediction, test_lable))\n",
    "        FP.append(false_positive (prediction, test_lable))\n",
    "        FN.append(false_negative (prediction, test_lable))\n",
    "    raw_data = {\n",
    "            'Accuracy': Acc, 'False Positive':FP, 'False Negative': FN \n",
    "            \n",
    "            }\n",
    "\n",
    "    df1 = pd.DataFrame(raw_data,\n",
    "                  index=pd.Index(['1', '0.1', '0.01', '0.001'], name='Parameters Name'),\n",
    "                  columns=pd.Index(['Accuracy', 'False Positive', 'False Negative'], name='Parameters'))\n",
    "    print(df1)\n",
    "    plt.plot(df1.index,\"Accuracy\",label=\"Accuracy\", data=df1, marker='o')\n",
    "\n",
    "    plt.plot(df1.index,\"False Positive\",label=\"False positive\", data=df1, marker='o')\n",
    "    plt.plot(df1.index,\"False Negative\", label=\"False Negative\", data=df1, marker='o')\n",
    "    plt.legend()\n",
    "    plt.xlabel(\"gamma\")\n",
    "    plt.ylabel(\"Number\")\n",
    "    plt.title (\"SVM gamma Plot\")\n",
    "    plt.show()\n",
    "    plt.close()"
   ]
  },
  {
   "cell_type": "code",
   "execution_count": 354,
   "metadata": {},
   "outputs": [],
   "source": [
    "#SVM_gamma_plot()"
   ]
  },
  {
   "cell_type": "code",
   "execution_count": 355,
   "metadata": {},
   "outputs": [],
   "source": [
    "def SVM_kernel_test(title, train_data, train_lable, test_data, test_lable):\n",
    "    \n",
    "    Acc=[]\n",
    "    FP=[]\n",
    "    FN=[]\n",
    "    parameter=SVM_gridSearch (train_data, train_lable)\n",
    "    for each in ['rbf', 'poly', 'sigmoid']:\n",
    "        clf =SVC(C=parameter[\"C\"], gamma=parameter[\"gamma\"], kernel=each)\n",
    "        clf = clf.fit(train_data, train_lable)\n",
    "        score=clf.score(test_data, test_lable)\n",
    "        Acc.append(score)\n",
    "        \n",
    "    raw_data = {'Accuracy': Acc}\n",
    "\n",
    "    df1 = pd.DataFrame(raw_data,\n",
    "                  index=pd.Index(['rbf', 'poly', 'sigmoid'], name='Parameters Name'),\n",
    "                  columns=pd.Index(['Accuracy'], name='Parameters'))\n",
    "    print(df1)\n",
    "    plt.plot(df1.index,\"Accuracy\",label=\"Accuracy\", data=df1, marker='o')\n",
    "    plt.ylim (0,1)\n",
    "    plt.legend()\n",
    "    plt.xlabel(\"Kernel\")\n",
    "    plt.ylabel(\"Score\")\n",
    "    plt.title (title)\n",
    "    plt.show()\n",
    "    plt.close()\n",
    "    "
   ]
  },
  {
   "cell_type": "code",
   "execution_count": 356,
   "metadata": {},
   "outputs": [
    {
     "name": "stdout",
     "output_type": "stream",
     "text": [
      "Fitting 5 folds for each of 48 candidates, totalling 240 fits\n",
      "[CV] END .........................C=0.1, gamma=1, kernel=rbf; total time=   0.0s\n",
      "[CV] END .........................C=0.1, gamma=1, kernel=rbf; total time=   0.0s\n",
      "[CV] END .........................C=0.1, gamma=1, kernel=rbf; total time=   0.0s\n",
      "[CV] END .........................C=0.1, gamma=1, kernel=rbf; total time=   0.0s\n",
      "[CV] END .........................C=0.1, gamma=1, kernel=rbf; total time=   0.0s\n",
      "[CV] END ........................C=0.1, gamma=1, kernel=poly; total time=   0.0s\n",
      "[CV] END ........................C=0.1, gamma=1, kernel=poly; total time=   0.0s\n",
      "[CV] END ........................C=0.1, gamma=1, kernel=poly; total time=   0.0s\n",
      "[CV] END ........................C=0.1, gamma=1, kernel=poly; total time=   0.0s\n",
      "[CV] END ........................C=0.1, gamma=1, kernel=poly; total time=   0.0s\n",
      "[CV] END .....................C=0.1, gamma=1, kernel=sigmoid; total time=   0.0s\n",
      "[CV] END .....................C=0.1, gamma=1, kernel=sigmoid; total time=   0.0s\n",
      "[CV] END .....................C=0.1, gamma=1, kernel=sigmoid; total time=   0.0s\n",
      "[CV] END .....................C=0.1, gamma=1, kernel=sigmoid; total time=   0.0s\n",
      "[CV] END .....................C=0.1, gamma=1, kernel=sigmoid; total time=   0.0s\n",
      "[CV] END .......................C=0.1, gamma=0.1, kernel=rbf; total time=   0.0s\n",
      "[CV] END .......................C=0.1, gamma=0.1, kernel=rbf; total time=   0.0s\n",
      "[CV] END .......................C=0.1, gamma=0.1, kernel=rbf; total time=   0.0s\n",
      "[CV] END .......................C=0.1, gamma=0.1, kernel=rbf; total time=   0.0s\n",
      "[CV] END .......................C=0.1, gamma=0.1, kernel=rbf; total time=   0.0s\n",
      "[CV] END ......................C=0.1, gamma=0.1, kernel=poly; total time=   0.0s\n",
      "[CV] END ......................C=0.1, gamma=0.1, kernel=poly; total time=   0.0s\n",
      "[CV] END ......................C=0.1, gamma=0.1, kernel=poly; total time=   0.0s\n",
      "[CV] END ......................C=0.1, gamma=0.1, kernel=poly; total time=   0.0s\n",
      "[CV] END ......................C=0.1, gamma=0.1, kernel=poly; total time=   0.0s\n",
      "[CV] END ...................C=0.1, gamma=0.1, kernel=sigmoid; total time=   0.0s\n",
      "[CV] END ...................C=0.1, gamma=0.1, kernel=sigmoid; total time=   0.0s\n",
      "[CV] END ...................C=0.1, gamma=0.1, kernel=sigmoid; total time=   0.0s\n",
      "[CV] END ...................C=0.1, gamma=0.1, kernel=sigmoid; total time=   0.0s\n",
      "[CV] END ...................C=0.1, gamma=0.1, kernel=sigmoid; total time=   0.0s\n",
      "[CV] END ......................C=0.1, gamma=0.01, kernel=rbf; total time=   0.0s\n",
      "[CV] END ......................C=0.1, gamma=0.01, kernel=rbf; total time=   0.0s\n",
      "[CV] END ......................C=0.1, gamma=0.01, kernel=rbf; total time=   0.0s\n",
      "[CV] END ......................C=0.1, gamma=0.01, kernel=rbf; total time=   0.0s\n",
      "[CV] END ......................C=0.1, gamma=0.01, kernel=rbf; total time=   0.0s\n",
      "[CV] END .....................C=0.1, gamma=0.01, kernel=poly; total time=   0.0s\n",
      "[CV] END .....................C=0.1, gamma=0.01, kernel=poly; total time=   0.0s\n",
      "[CV] END .....................C=0.1, gamma=0.01, kernel=poly; total time=   0.0s\n",
      "[CV] END .....................C=0.1, gamma=0.01, kernel=poly; total time=   0.0s\n",
      "[CV] END .....................C=0.1, gamma=0.01, kernel=poly; total time=   0.0s\n",
      "[CV] END ..................C=0.1, gamma=0.01, kernel=sigmoid; total time=   0.0s\n",
      "[CV] END ..................C=0.1, gamma=0.01, kernel=sigmoid; total time=   0.0s\n",
      "[CV] END ..................C=0.1, gamma=0.01, kernel=sigmoid; total time=   0.0s\n",
      "[CV] END ..................C=0.1, gamma=0.01, kernel=sigmoid; total time=   0.0s\n",
      "[CV] END ..................C=0.1, gamma=0.01, kernel=sigmoid; total time=   0.0s\n",
      "[CV] END .....................C=0.1, gamma=0.001, kernel=rbf; total time=   0.0s\n",
      "[CV] END .....................C=0.1, gamma=0.001, kernel=rbf; total time=   0.0s\n",
      "[CV] END .....................C=0.1, gamma=0.001, kernel=rbf; total time=   0.0s\n",
      "[CV] END .....................C=0.1, gamma=0.001, kernel=rbf; total time=   0.0s\n",
      "[CV] END .....................C=0.1, gamma=0.001, kernel=rbf; total time=   0.0s\n",
      "[CV] END ....................C=0.1, gamma=0.001, kernel=poly; total time=   0.0s\n",
      "[CV] END ....................C=0.1, gamma=0.001, kernel=poly; total time=   0.0s\n",
      "[CV] END ....................C=0.1, gamma=0.001, kernel=poly; total time=   0.0s\n",
      "[CV] END ....................C=0.1, gamma=0.001, kernel=poly; total time=   0.0s\n",
      "[CV] END ....................C=0.1, gamma=0.001, kernel=poly; total time=   0.0s\n",
      "[CV] END .................C=0.1, gamma=0.001, kernel=sigmoid; total time=   0.0s\n",
      "[CV] END .................C=0.1, gamma=0.001, kernel=sigmoid; total time=   0.0s\n",
      "[CV] END .................C=0.1, gamma=0.001, kernel=sigmoid; total time=   0.0s\n",
      "[CV] END .................C=0.1, gamma=0.001, kernel=sigmoid; total time=   0.0s\n",
      "[CV] END .................C=0.1, gamma=0.001, kernel=sigmoid; total time=   0.0s\n",
      "[CV] END ...........................C=1, gamma=1, kernel=rbf; total time=   0.0s\n",
      "[CV] END ...........................C=1, gamma=1, kernel=rbf; total time=   0.0s\n",
      "[CV] END ...........................C=1, gamma=1, kernel=rbf; total time=   0.0s\n",
      "[CV] END ...........................C=1, gamma=1, kernel=rbf; total time=   0.0s\n",
      "[CV] END ...........................C=1, gamma=1, kernel=rbf; total time=   0.0s\n",
      "[CV] END ..........................C=1, gamma=1, kernel=poly; total time=   0.0s\n",
      "[CV] END ..........................C=1, gamma=1, kernel=poly; total time=   0.0s\n",
      "[CV] END ..........................C=1, gamma=1, kernel=poly; total time=   0.0s\n",
      "[CV] END ..........................C=1, gamma=1, kernel=poly; total time=   0.0s\n",
      "[CV] END ..........................C=1, gamma=1, kernel=poly; total time=   0.0s\n",
      "[CV] END .......................C=1, gamma=1, kernel=sigmoid; total time=   0.0s\n",
      "[CV] END .......................C=1, gamma=1, kernel=sigmoid; total time=   0.0s\n",
      "[CV] END .......................C=1, gamma=1, kernel=sigmoid; total time=   0.0s\n",
      "[CV] END .......................C=1, gamma=1, kernel=sigmoid; total time=   0.0s\n",
      "[CV] END .......................C=1, gamma=1, kernel=sigmoid; total time=   0.0s\n",
      "[CV] END .........................C=1, gamma=0.1, kernel=rbf; total time=   0.0s\n",
      "[CV] END .........................C=1, gamma=0.1, kernel=rbf; total time=   0.0s\n",
      "[CV] END .........................C=1, gamma=0.1, kernel=rbf; total time=   0.0s\n",
      "[CV] END .........................C=1, gamma=0.1, kernel=rbf; total time=   0.0s\n",
      "[CV] END .........................C=1, gamma=0.1, kernel=rbf; total time=   0.0s\n",
      "[CV] END ........................C=1, gamma=0.1, kernel=poly; total time=   0.0s\n",
      "[CV] END ........................C=1, gamma=0.1, kernel=poly; total time=   0.0s\n",
      "[CV] END ........................C=1, gamma=0.1, kernel=poly; total time=   0.0s\n",
      "[CV] END ........................C=1, gamma=0.1, kernel=poly; total time=   0.0s\n",
      "[CV] END ........................C=1, gamma=0.1, kernel=poly; total time=   0.0s\n",
      "[CV] END .....................C=1, gamma=0.1, kernel=sigmoid; total time=   0.0s\n",
      "[CV] END .....................C=1, gamma=0.1, kernel=sigmoid; total time=   0.0s\n",
      "[CV] END .....................C=1, gamma=0.1, kernel=sigmoid; total time=   0.0s\n",
      "[CV] END .....................C=1, gamma=0.1, kernel=sigmoid; total time=   0.0s\n",
      "[CV] END .....................C=1, gamma=0.1, kernel=sigmoid; total time=   0.0s\n",
      "[CV] END ........................C=1, gamma=0.01, kernel=rbf; total time=   0.0s\n",
      "[CV] END ........................C=1, gamma=0.01, kernel=rbf; total time=   0.0s\n",
      "[CV] END ........................C=1, gamma=0.01, kernel=rbf; total time=   0.0s\n",
      "[CV] END ........................C=1, gamma=0.01, kernel=rbf; total time=   0.0s\n",
      "[CV] END ........................C=1, gamma=0.01, kernel=rbf; total time=   0.0s\n",
      "[CV] END .......................C=1, gamma=0.01, kernel=poly; total time=   0.0s\n",
      "[CV] END .......................C=1, gamma=0.01, kernel=poly; total time=   0.0s\n",
      "[CV] END .......................C=1, gamma=0.01, kernel=poly; total time=   0.0s\n",
      "[CV] END .......................C=1, gamma=0.01, kernel=poly; total time=   0.0s\n",
      "[CV] END .......................C=1, gamma=0.01, kernel=poly; total time=   0.0s\n",
      "[CV] END ....................C=1, gamma=0.01, kernel=sigmoid; total time=   0.0s\n",
      "[CV] END ....................C=1, gamma=0.01, kernel=sigmoid; total time=   0.0s\n",
      "[CV] END ....................C=1, gamma=0.01, kernel=sigmoid; total time=   0.0s\n",
      "[CV] END ....................C=1, gamma=0.01, kernel=sigmoid; total time=   0.0s\n",
      "[CV] END ....................C=1, gamma=0.01, kernel=sigmoid; total time=   0.0s\n",
      "[CV] END .......................C=1, gamma=0.001, kernel=rbf; total time=   0.0s\n",
      "[CV] END .......................C=1, gamma=0.001, kernel=rbf; total time=   0.0s\n",
      "[CV] END .......................C=1, gamma=0.001, kernel=rbf; total time=   0.0s\n",
      "[CV] END .......................C=1, gamma=0.001, kernel=rbf; total time=   0.0s\n",
      "[CV] END .......................C=1, gamma=0.001, kernel=rbf; total time=   0.0s\n",
      "[CV] END ......................C=1, gamma=0.001, kernel=poly; total time=   0.0s\n",
      "[CV] END ......................C=1, gamma=0.001, kernel=poly; total time=   0.0s\n",
      "[CV] END ......................C=1, gamma=0.001, kernel=poly; total time=   0.0s\n",
      "[CV] END ......................C=1, gamma=0.001, kernel=poly; total time=   0.0s\n",
      "[CV] END ......................C=1, gamma=0.001, kernel=poly; total time=   0.0s\n",
      "[CV] END ...................C=1, gamma=0.001, kernel=sigmoid; total time=   0.0s\n",
      "[CV] END ...................C=1, gamma=0.001, kernel=sigmoid; total time=   0.0s\n",
      "[CV] END ...................C=1, gamma=0.001, kernel=sigmoid; total time=   0.0s\n",
      "[CV] END ...................C=1, gamma=0.001, kernel=sigmoid; total time=   0.0s\n",
      "[CV] END ...................C=1, gamma=0.001, kernel=sigmoid; total time=   0.0s\n",
      "[CV] END ..........................C=10, gamma=1, kernel=rbf; total time=   0.0s\n",
      "[CV] END ..........................C=10, gamma=1, kernel=rbf; total time=   0.0s\n",
      "[CV] END ..........................C=10, gamma=1, kernel=rbf; total time=   0.0s\n",
      "[CV] END ..........................C=10, gamma=1, kernel=rbf; total time=   0.0s\n",
      "[CV] END ..........................C=10, gamma=1, kernel=rbf; total time=   0.0s\n"
     ]
    },
    {
     "name": "stdout",
     "output_type": "stream",
     "text": [
      "[CV] END .........................C=10, gamma=1, kernel=poly; total time=   0.0s\n",
      "[CV] END .........................C=10, gamma=1, kernel=poly; total time=   0.0s\n",
      "[CV] END .........................C=10, gamma=1, kernel=poly; total time=   0.0s\n",
      "[CV] END .........................C=10, gamma=1, kernel=poly; total time=   0.0s\n",
      "[CV] END .........................C=10, gamma=1, kernel=poly; total time=   0.0s\n",
      "[CV] END ......................C=10, gamma=1, kernel=sigmoid; total time=   0.0s\n",
      "[CV] END ......................C=10, gamma=1, kernel=sigmoid; total time=   0.0s\n",
      "[CV] END ......................C=10, gamma=1, kernel=sigmoid; total time=   0.0s\n",
      "[CV] END ......................C=10, gamma=1, kernel=sigmoid; total time=   0.0s\n",
      "[CV] END ......................C=10, gamma=1, kernel=sigmoid; total time=   0.0s\n",
      "[CV] END ........................C=10, gamma=0.1, kernel=rbf; total time=   0.0s\n",
      "[CV] END ........................C=10, gamma=0.1, kernel=rbf; total time=   0.0s\n",
      "[CV] END ........................C=10, gamma=0.1, kernel=rbf; total time=   0.0s\n",
      "[CV] END ........................C=10, gamma=0.1, kernel=rbf; total time=   0.0s\n",
      "[CV] END ........................C=10, gamma=0.1, kernel=rbf; total time=   0.0s\n",
      "[CV] END .......................C=10, gamma=0.1, kernel=poly; total time=   0.0s\n",
      "[CV] END .......................C=10, gamma=0.1, kernel=poly; total time=   0.0s\n",
      "[CV] END .......................C=10, gamma=0.1, kernel=poly; total time=   0.0s\n",
      "[CV] END .......................C=10, gamma=0.1, kernel=poly; total time=   0.0s\n",
      "[CV] END .......................C=10, gamma=0.1, kernel=poly; total time=   0.0s\n",
      "[CV] END ....................C=10, gamma=0.1, kernel=sigmoid; total time=   0.0s\n",
      "[CV] END ....................C=10, gamma=0.1, kernel=sigmoid; total time=   0.0s\n",
      "[CV] END ....................C=10, gamma=0.1, kernel=sigmoid; total time=   0.0s\n",
      "[CV] END ....................C=10, gamma=0.1, kernel=sigmoid; total time=   0.0s\n",
      "[CV] END ....................C=10, gamma=0.1, kernel=sigmoid; total time=   0.0s\n",
      "[CV] END .......................C=10, gamma=0.01, kernel=rbf; total time=   0.0s\n",
      "[CV] END .......................C=10, gamma=0.01, kernel=rbf; total time=   0.0s\n",
      "[CV] END .......................C=10, gamma=0.01, kernel=rbf; total time=   0.0s\n",
      "[CV] END .......................C=10, gamma=0.01, kernel=rbf; total time=   0.0s\n",
      "[CV] END .......................C=10, gamma=0.01, kernel=rbf; total time=   0.0s\n",
      "[CV] END ......................C=10, gamma=0.01, kernel=poly; total time=   0.0s\n",
      "[CV] END ......................C=10, gamma=0.01, kernel=poly; total time=   0.0s\n",
      "[CV] END ......................C=10, gamma=0.01, kernel=poly; total time=   0.0s\n",
      "[CV] END ......................C=10, gamma=0.01, kernel=poly; total time=   0.0s\n",
      "[CV] END ......................C=10, gamma=0.01, kernel=poly; total time=   0.0s\n",
      "[CV] END ...................C=10, gamma=0.01, kernel=sigmoid; total time=   0.0s\n",
      "[CV] END ...................C=10, gamma=0.01, kernel=sigmoid; total time=   0.0s\n",
      "[CV] END ...................C=10, gamma=0.01, kernel=sigmoid; total time=   0.0s\n",
      "[CV] END ...................C=10, gamma=0.01, kernel=sigmoid; total time=   0.0s\n",
      "[CV] END ...................C=10, gamma=0.01, kernel=sigmoid; total time=   0.0s\n",
      "[CV] END ......................C=10, gamma=0.001, kernel=rbf; total time=   0.0s\n",
      "[CV] END ......................C=10, gamma=0.001, kernel=rbf; total time=   0.0s\n",
      "[CV] END ......................C=10, gamma=0.001, kernel=rbf; total time=   0.0s\n",
      "[CV] END ......................C=10, gamma=0.001, kernel=rbf; total time=   0.0s\n",
      "[CV] END ......................C=10, gamma=0.001, kernel=rbf; total time=   0.0s\n",
      "[CV] END .....................C=10, gamma=0.001, kernel=poly; total time=   0.0s\n",
      "[CV] END .....................C=10, gamma=0.001, kernel=poly; total time=   0.0s\n",
      "[CV] END .....................C=10, gamma=0.001, kernel=poly; total time=   0.0s\n",
      "[CV] END .....................C=10, gamma=0.001, kernel=poly; total time=   0.0s\n",
      "[CV] END .....................C=10, gamma=0.001, kernel=poly; total time=   0.0s\n",
      "[CV] END ..................C=10, gamma=0.001, kernel=sigmoid; total time=   0.0s\n",
      "[CV] END ..................C=10, gamma=0.001, kernel=sigmoid; total time=   0.0s\n",
      "[CV] END ..................C=10, gamma=0.001, kernel=sigmoid; total time=   0.0s\n",
      "[CV] END ..................C=10, gamma=0.001, kernel=sigmoid; total time=   0.0s\n",
      "[CV] END ..................C=10, gamma=0.001, kernel=sigmoid; total time=   0.0s\n",
      "[CV] END .........................C=100, gamma=1, kernel=rbf; total time=   0.0s\n",
      "[CV] END .........................C=100, gamma=1, kernel=rbf; total time=   0.0s\n",
      "[CV] END .........................C=100, gamma=1, kernel=rbf; total time=   0.0s\n",
      "[CV] END .........................C=100, gamma=1, kernel=rbf; total time=   0.0s\n",
      "[CV] END .........................C=100, gamma=1, kernel=rbf; total time=   0.0s\n",
      "[CV] END ........................C=100, gamma=1, kernel=poly; total time=   0.0s\n",
      "[CV] END ........................C=100, gamma=1, kernel=poly; total time=   0.0s\n",
      "[CV] END ........................C=100, gamma=1, kernel=poly; total time=   0.0s\n",
      "[CV] END ........................C=100, gamma=1, kernel=poly; total time=   0.0s\n",
      "[CV] END ........................C=100, gamma=1, kernel=poly; total time=   0.0s\n",
      "[CV] END .....................C=100, gamma=1, kernel=sigmoid; total time=   0.0s\n",
      "[CV] END .....................C=100, gamma=1, kernel=sigmoid; total time=   0.0s\n",
      "[CV] END .....................C=100, gamma=1, kernel=sigmoid; total time=   0.0s\n",
      "[CV] END .....................C=100, gamma=1, kernel=sigmoid; total time=   0.0s\n",
      "[CV] END .....................C=100, gamma=1, kernel=sigmoid; total time=   0.0s\n",
      "[CV] END .......................C=100, gamma=0.1, kernel=rbf; total time=   0.0s\n",
      "[CV] END .......................C=100, gamma=0.1, kernel=rbf; total time=   0.0s\n",
      "[CV] END .......................C=100, gamma=0.1, kernel=rbf; total time=   0.0s\n",
      "[CV] END .......................C=100, gamma=0.1, kernel=rbf; total time=   0.0s\n",
      "[CV] END .......................C=100, gamma=0.1, kernel=rbf; total time=   0.0s\n",
      "[CV] END ......................C=100, gamma=0.1, kernel=poly; total time=   0.0s\n",
      "[CV] END ......................C=100, gamma=0.1, kernel=poly; total time=   0.0s\n",
      "[CV] END ......................C=100, gamma=0.1, kernel=poly; total time=   0.0s\n",
      "[CV] END ......................C=100, gamma=0.1, kernel=poly; total time=   0.0s\n",
      "[CV] END ......................C=100, gamma=0.1, kernel=poly; total time=   0.0s\n",
      "[CV] END ...................C=100, gamma=0.1, kernel=sigmoid; total time=   0.0s\n",
      "[CV] END ...................C=100, gamma=0.1, kernel=sigmoid; total time=   0.0s\n",
      "[CV] END ...................C=100, gamma=0.1, kernel=sigmoid; total time=   0.0s\n",
      "[CV] END ...................C=100, gamma=0.1, kernel=sigmoid; total time=   0.0s\n",
      "[CV] END ...................C=100, gamma=0.1, kernel=sigmoid; total time=   0.0s\n",
      "[CV] END ......................C=100, gamma=0.01, kernel=rbf; total time=   0.0s\n",
      "[CV] END ......................C=100, gamma=0.01, kernel=rbf; total time=   0.0s\n",
      "[CV] END ......................C=100, gamma=0.01, kernel=rbf; total time=   0.0s\n",
      "[CV] END ......................C=100, gamma=0.01, kernel=rbf; total time=   0.0s\n",
      "[CV] END ......................C=100, gamma=0.01, kernel=rbf; total time=   0.0s\n",
      "[CV] END .....................C=100, gamma=0.01, kernel=poly; total time=   0.0s\n",
      "[CV] END .....................C=100, gamma=0.01, kernel=poly; total time=   0.0s\n",
      "[CV] END .....................C=100, gamma=0.01, kernel=poly; total time=   0.0s\n",
      "[CV] END .....................C=100, gamma=0.01, kernel=poly; total time=   0.0s\n",
      "[CV] END .....................C=100, gamma=0.01, kernel=poly; total time=   0.0s\n",
      "[CV] END ..................C=100, gamma=0.01, kernel=sigmoid; total time=   0.0s\n",
      "[CV] END ..................C=100, gamma=0.01, kernel=sigmoid; total time=   0.0s\n",
      "[CV] END ..................C=100, gamma=0.01, kernel=sigmoid; total time=   0.0s\n",
      "[CV] END ..................C=100, gamma=0.01, kernel=sigmoid; total time=   0.0s\n",
      "[CV] END ..................C=100, gamma=0.01, kernel=sigmoid; total time=   0.0s\n",
      "[CV] END .....................C=100, gamma=0.001, kernel=rbf; total time=   0.0s\n",
      "[CV] END .....................C=100, gamma=0.001, kernel=rbf; total time=   0.0s\n",
      "[CV] END .....................C=100, gamma=0.001, kernel=rbf; total time=   0.0s\n",
      "[CV] END .....................C=100, gamma=0.001, kernel=rbf; total time=   0.0s\n",
      "[CV] END .....................C=100, gamma=0.001, kernel=rbf; total time=   0.0s\n",
      "[CV] END ....................C=100, gamma=0.001, kernel=poly; total time=   0.0s\n",
      "[CV] END ....................C=100, gamma=0.001, kernel=poly; total time=   0.0s\n",
      "[CV] END ....................C=100, gamma=0.001, kernel=poly; total time=   0.0s\n",
      "[CV] END ....................C=100, gamma=0.001, kernel=poly; total time=   0.0s\n",
      "[CV] END ....................C=100, gamma=0.001, kernel=poly; total time=   0.0s\n",
      "[CV] END .................C=100, gamma=0.001, kernel=sigmoid; total time=   0.0s\n",
      "[CV] END .................C=100, gamma=0.001, kernel=sigmoid; total time=   0.0s\n",
      "[CV] END .................C=100, gamma=0.001, kernel=sigmoid; total time=   0.0s\n",
      "[CV] END .................C=100, gamma=0.001, kernel=sigmoid; total time=   0.0s\n",
      "[CV] END .................C=100, gamma=0.001, kernel=sigmoid; total time=   0.0s\n",
      "Parameters       Accuracy\n",
      "Parameters Name          \n",
      "rbf              0.960784\n",
      "poly             0.955882\n",
      "sigmoid          0.622549\n"
     ]
    },
    {
     "data": {
      "image/png": "[encoded data removed]",
      "text/plain": [
       "<Figure size 432x288 with 1 Axes>"
      ]
     },
     "metadata": {
      "needs_background": "light"
     },
     "output_type": "display_data"
    }
   ],
   "source": [
    "#SVM_kernel_test(\"Hear Disease Test Plot of Kernel of SVM \",train_data, train_lable, test_data, test_lable)\n",
    "#SVM_kernel_test(\"Breast Cancer Test Plot of Kernel of SVM \", breast_cancer_train, breast_cancer_lable_train, breast_cancer_test, breast_cancer_lable_test)"
   ]
  },
  {
   "cell_type": "code",
   "execution_count": null,
   "metadata": {},
   "outputs": [],
   "source": [
    "def gradient_boost_gridSearch (train_data,train_lable):\n",
    "    \n",
    "    gbc = GradientBoostingClassifier()\n",
    "    parameters = { \"n_estimators\":[5,50,250,500], \"max_depth\":[1,3,5,7,9],\"learning_rate\":[0.01,0.1,1,10,100]}\n",
    "    grid = GridSearchCV(gbc,parameters,refit=True,verbose=2)\n",
    "    grid.fit(train_data, train_lable)\n",
    "    \n",
    "    return grid.best_params_"
   ]
  },
  {
   "cell_type": "code",
   "execution_count": null,
   "metadata": {},
   "outputs": [],
   "source": [
    "#print(gradient_boost_gridSearch (train_data,train_lable))"
   ]
  },
  {
   "cell_type": "code",
   "execution_count": null,
   "metadata": {},
   "outputs": [],
   "source": [
    "def boost_number_test_plot(title,train_data, train_lable, test_data, test_lable):\n",
    "    Acc=[]\n",
    "    FP=[]\n",
    "    FN=[]\n",
    "    parameter=gradient_boost_gridSearch (train_data, train_lable)\n",
    "    for each in [5,50,250,500]:\n",
    "        clf =GradientBoostingClassifier(max_depth=parameter[\"max_depth\"], learning_rate=parameter[\"learning_rate\"],n_estimators=each)\n",
    "        clf = clf.fit(train_data, train_lable)\n",
    "        score=clf.score(test_data, test_lable)\n",
    "        Acc.append(score)\n",
    "        \n",
    "    raw_data = {'Accuracy': Acc}\n",
    "\n",
    "    df1 = pd.DataFrame(raw_data,\n",
    "                  index=pd.Index([5,50,250,500], name='Parameters Name'),\n",
    "                  columns=pd.Index(['Accuracy'], name='Parameters'))\n",
    "    print(df1)\n",
    "    plt.plot(df1.index,\"Accuracy\",label=\"Accuracy\", data=df1, marker='o')\n",
    "    plt.ylim (0,1)\n",
    "    plt.legend()\n",
    "    plt.xlabel(\"Number of Estimators\")\n",
    "    plt.ylabel(\"Score\")\n",
    "    plt.title (title)\n",
    "    plt.show()\n",
    "    plt.close()"
   ]
  },
  {
   "cell_type": "code",
   "execution_count": null,
   "metadata": {},
   "outputs": [],
   "source": [
    "#boost_number_test_plot(\"Hear Disease Test Plot of Number of Estimators of Gradient Boost Tree \",train_data, train_lable, test_data, test_lable)\n",
    "#boost_number_test_plot(\"Breast Cancer Test Plot of Number of Estimators of Gradient Boost Tree \", breast_cancer_train, breast_cancer_lable_train, breast_cancer_test, breast_cancer_lable_test)"
   ]
  },
  {
   "cell_type": "code",
   "execution_count": null,
   "metadata": {},
   "outputs": [],
   "source": [
    "def gradient_validation_curve(title,X,y):\n",
    "    parameter=gradient_boost_gridSearch (X,y)\n",
    "    \n",
    "\n",
    "    estimator =GradientBoostingClassifier(max_depth=parameter[\"max_depth\"], learning_rate=parameter[\"learning_rate\"])\n",
    "    validationCurve(estimator, title, X, y, \"n_estimators\", [5,50,250,500])"
   ]
  },
  {
   "cell_type": "code",
   "execution_count": null,
   "metadata": {},
   "outputs": [],
   "source": []
  },
  {
   "cell_type": "code",
   "execution_count": null,
   "metadata": {},
   "outputs": [],
   "source": [
    "#gradient_validation_curve (\"Gradient Boost Validation Curve for heart disease\", train_data, train_lable)\n",
    "\n",
    "gradient_validation_curve (\"Gradient Boost Validation Curve for Breast Cancer\", breast_cancer_train, breast_cancer_lable_train)"
   ]
  },
  {
   "cell_type": "code",
   "execution_count": null,
   "metadata": {},
   "outputs": [],
   "source": [
    "def gradient_learning_curve(title,X,y):\n",
    "    fig, axes = plt.subplots(2, 2, figsize=(10, 15))\n",
    "\n",
    "\n",
    "    parameter=gradient_boost_gridSearch (X,y)\n",
    "    \n",
    "    cv = ShuffleSplit(n_splits=100, test_size=0.2, random_state=0)\n",
    "\n",
    "    estimator =GradientBoostingClassifier(learning_rate=parameter[\"learning_rate\"], max_depth=parameter[\"max_depth\"], n_estimators=parameter[\"n_estimators\"])\n",
    "    plot_learning_curve(estimator, title, X, y, axes=axes[:, 0], ylim=(0.7, 1.01), cv=cv, n_jobs=4)\n",
    "\n",
    "\n",
    "    plt.show()\n",
    "    plt.close()"
   ]
  },
  {
   "cell_type": "code",
   "execution_count": null,
   "metadata": {},
   "outputs": [],
   "source": [
    "#gradient_learning_curve (\"Gradient Boost Validation Curve for heart disease\", train_data, train_lable)"
   ]
  },
  {
   "cell_type": "code",
   "execution_count": null,
   "metadata": {},
   "outputs": [],
   "source": [
    "#gradient_learning_curve(\"Gradient Boost Learning Curve for Heart Disease\",train_data, train_lable)"
   ]
  }
 ],
 "metadata": {
  "kernelspec": {
   "display_name": "Python 3",
   "language": "python",
   "name": "python3"
  },
  "language_info": {
   "codemirror_mode": {
    "name": "ipython",
    "version": 3
   },
   "file_extension": ".py",
   "mimetype": "text/x-python",
   "name": "python",
   "nbconvert_exporter": "python",
   "pygments_lexer": "ipython3",
   "version": "3.7.10"
  }
 },
 "nbformat": 4,
 "nbformat_minor": 2
}
